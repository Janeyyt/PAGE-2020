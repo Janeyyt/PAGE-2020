{
 "cells": [
  {
   "cell_type": "markdown",
   "metadata": {},
   "source": [
    "# Comparing to RCP 8.5\n",
    "\n",
    "RCP 8.5 is the CMIP5 high emissions scenario, defined by the radiative forcing.  Since it represents a kind of \"business as usual\" scenario outside of PAGE, it provides a reasonable comparison case for the radiative forcings produced by PAGE."
   ]
  },
  {
   "cell_type": "code",
   "execution_count": 1,
   "metadata": {
    "collapsed": true
   },
   "outputs": [],
   "source": [
    "using DataFrames, CSVFiles, Query, VegaLite, Dates"
   ]
  },
  {
   "cell_type": "code",
   "execution_count": 2,
   "metadata": {},
   "outputs": [],
   "source": [
    "# Run the model\n",
    "include(\"../src/main_model.jl\")\n",
    "m = getpage(\"RCP8.5 & SSP5\")\n",
    "run(m)"
   ]
  },
  {
   "cell_type": "code",
   "execution_count": 3,
   "metadata": {},
   "outputs": [
    {
     "name": "stderr",
     "output_type": "stream",
     "text": [
      "┌ Warning: Implicit broadcasting to a new column in DataFrame assignment is deprecated.Use `df[!, col_ind] .= v`  when `df` has some columns\n",
      "│   caller = top-level scope at In[3]:9\n",
      "└ @ Core In[3]:9\n",
      "┌ Warning: `getindex(df::DataFrame, col_ind::ColumnIndex)` is deprecated, use `df[!, col_ind]` instead.\n",
      "│   caller = top-level scope at In[3]:26\n",
      "└ @ Core In[3]:26\n",
      "┌ Warning: `setindex!(df::DataFrame, v::AbstractVector, col_ind::ColumnIndex)` is deprecated, use `begin\n",
      "│     df[!, col_ind] = v\n",
      "│     df\n",
      "│ end` instead.\n",
      "│   caller = top-level scope at In[3]:26\n",
      "└ @ Core In[3]:26\n"
     ]
    },
    {
     "data": {
      "text/html": [
       "<table class=\"data-frame\"><thead><tr><th></th><th>model</th><th>year</th><th>variable</th><th>value</th></tr><tr><th></th><th>String</th><th>Date</th><th>Any</th><th>Float64⍰</th></tr></thead><tbody><p>2,238 rows × 4 columns</p><tr><th>1</th><td>RCP 8.5</td><td>1765-01-01</td><td>CO2_RF</td><td>0.0</td></tr><tr><th>2</th><td>RCP 8.5</td><td>1766-01-01</td><td>CO2_RF</td><td>0.0110491</td></tr><tr><th>3</th><td>RCP 8.5</td><td>1767-01-01</td><td>CO2_RF</td><td>0.023246</td></tr><tr><th>4</th><td>RCP 8.5</td><td>1768-01-01</td><td>CO2_RF</td><td>0.0256052</td></tr><tr><th>5</th><td>RCP 8.5</td><td>1769-01-01</td><td>CO2_RF</td><td>0.028057</td></tr><tr><th>6</th><td>RCP 8.5</td><td>1770-01-01</td><td>CO2_RF</td><td>0.0305529</td></tr><tr><th>7</th><td>RCP 8.5</td><td>1771-01-01</td><td>CO2_RF</td><td>0.0330936</td></tr><tr><th>8</th><td>RCP 8.5</td><td>1772-01-01</td><td>CO2_RF</td><td>0.0357058</td></tr><tr><th>9</th><td>RCP 8.5</td><td>1773-01-01</td><td>CO2_RF</td><td>0.0383971</td></tr><tr><th>10</th><td>RCP 8.5</td><td>1774-01-01</td><td>CO2_RF</td><td>0.0411609</td></tr><tr><th>11</th><td>RCP 8.5</td><td>1775-01-01</td><td>CO2_RF</td><td>0.0440096</td></tr><tr><th>12</th><td>RCP 8.5</td><td>1776-01-01</td><td>CO2_RF</td><td>0.0469792</td></tr><tr><th>13</th><td>RCP 8.5</td><td>1777-01-01</td><td>CO2_RF</td><td>0.0500673</td></tr><tr><th>14</th><td>RCP 8.5</td><td>1778-01-01</td><td>CO2_RF</td><td>0.0532026</td></tr><tr><th>15</th><td>RCP 8.5</td><td>1779-01-01</td><td>CO2_RF</td><td>0.0562871</td></tr><tr><th>16</th><td>RCP 8.5</td><td>1780-01-01</td><td>CO2_RF</td><td>0.0592345</td></tr><tr><th>17</th><td>RCP 8.5</td><td>1781-01-01</td><td>CO2_RF</td><td>0.0620123</td></tr><tr><th>18</th><td>RCP 8.5</td><td>1782-01-01</td><td>CO2_RF</td><td>0.0646641</td></tr><tr><th>19</th><td>RCP 8.5</td><td>1783-01-01</td><td>CO2_RF</td><td>0.0672719</td></tr><tr><th>20</th><td>RCP 8.5</td><td>1784-01-01</td><td>CO2_RF</td><td>0.0699211</td></tr><tr><th>21</th><td>RCP 8.5</td><td>1785-01-01</td><td>CO2_RF</td><td>0.0726933</td></tr><tr><th>22</th><td>RCP 8.5</td><td>1786-01-01</td><td>CO2_RF</td><td>0.0756317</td></tr><tr><th>23</th><td>RCP 8.5</td><td>1787-01-01</td><td>CO2_RF</td><td>0.0787033</td></tr><tr><th>24</th><td>RCP 8.5</td><td>1788-01-01</td><td>CO2_RF</td><td>0.0818218</td></tr><tr><th>25</th><td>RCP 8.5</td><td>1789-01-01</td><td>CO2_RF</td><td>0.0848899</td></tr><tr><th>26</th><td>RCP 8.5</td><td>1790-01-01</td><td>CO2_RF</td><td>0.0878369</td></tr><tr><th>27</th><td>RCP 8.5</td><td>1791-01-01</td><td>CO2_RF</td><td>0.090661</td></tr><tr><th>28</th><td>RCP 8.5</td><td>1792-01-01</td><td>CO2_RF</td><td>0.0933979</td></tr><tr><th>29</th><td>RCP 8.5</td><td>1793-01-01</td><td>CO2_RF</td><td>0.0960604</td></tr><tr><th>30</th><td>RCP 8.5</td><td>1794-01-01</td><td>CO2_RF</td><td>0.0986421</td></tr><tr><th>&vellip;</th><td>&vellip;</td><td>&vellip;</td><td>&vellip;</td><td>&vellip;</td></tr></tbody></table>"
      ],
      "text/latex": [
       "\\begin{tabular}{r|cccc}\n",
       "\t& model & year & variable & value\\\\\n",
       "\t\\hline\n",
       "\t& String & Date & Any & Float64⍰\\\\\n",
       "\t\\hline\n",
       "\t1 & RCP 8.5 & 1765-01-01 & CO2\\_RF & 0.0 \\\\\n",
       "\t2 & RCP 8.5 & 1766-01-01 & CO2\\_RF & 0.0110491 \\\\\n",
       "\t3 & RCP 8.5 & 1767-01-01 & CO2\\_RF & 0.023246 \\\\\n",
       "\t4 & RCP 8.5 & 1768-01-01 & CO2\\_RF & 0.0256052 \\\\\n",
       "\t5 & RCP 8.5 & 1769-01-01 & CO2\\_RF & 0.028057 \\\\\n",
       "\t6 & RCP 8.5 & 1770-01-01 & CO2\\_RF & 0.0305529 \\\\\n",
       "\t7 & RCP 8.5 & 1771-01-01 & CO2\\_RF & 0.0330936 \\\\\n",
       "\t8 & RCP 8.5 & 1772-01-01 & CO2\\_RF & 0.0357058 \\\\\n",
       "\t9 & RCP 8.5 & 1773-01-01 & CO2\\_RF & 0.0383971 \\\\\n",
       "\t10 & RCP 8.5 & 1774-01-01 & CO2\\_RF & 0.0411609 \\\\\n",
       "\t11 & RCP 8.5 & 1775-01-01 & CO2\\_RF & 0.0440096 \\\\\n",
       "\t12 & RCP 8.5 & 1776-01-01 & CO2\\_RF & 0.0469792 \\\\\n",
       "\t13 & RCP 8.5 & 1777-01-01 & CO2\\_RF & 0.0500673 \\\\\n",
       "\t14 & RCP 8.5 & 1778-01-01 & CO2\\_RF & 0.0532026 \\\\\n",
       "\t15 & RCP 8.5 & 1779-01-01 & CO2\\_RF & 0.0562871 \\\\\n",
       "\t16 & RCP 8.5 & 1780-01-01 & CO2\\_RF & 0.0592345 \\\\\n",
       "\t17 & RCP 8.5 & 1781-01-01 & CO2\\_RF & 0.0620123 \\\\\n",
       "\t18 & RCP 8.5 & 1782-01-01 & CO2\\_RF & 0.0646641 \\\\\n",
       "\t19 & RCP 8.5 & 1783-01-01 & CO2\\_RF & 0.0672719 \\\\\n",
       "\t20 & RCP 8.5 & 1784-01-01 & CO2\\_RF & 0.0699211 \\\\\n",
       "\t21 & RCP 8.5 & 1785-01-01 & CO2\\_RF & 0.0726933 \\\\\n",
       "\t22 & RCP 8.5 & 1786-01-01 & CO2\\_RF & 0.0756317 \\\\\n",
       "\t23 & RCP 8.5 & 1787-01-01 & CO2\\_RF & 0.0787033 \\\\\n",
       "\t24 & RCP 8.5 & 1788-01-01 & CO2\\_RF & 0.0818218 \\\\\n",
       "\t25 & RCP 8.5 & 1789-01-01 & CO2\\_RF & 0.0848899 \\\\\n",
       "\t26 & RCP 8.5 & 1790-01-01 & CO2\\_RF & 0.0878369 \\\\\n",
       "\t27 & RCP 8.5 & 1791-01-01 & CO2\\_RF & 0.090661 \\\\\n",
       "\t28 & RCP 8.5 & 1792-01-01 & CO2\\_RF & 0.0933979 \\\\\n",
       "\t29 & RCP 8.5 & 1793-01-01 & CO2\\_RF & 0.0960604 \\\\\n",
       "\t30 & RCP 8.5 & 1794-01-01 & CO2\\_RF & 0.0986421 \\\\\n",
       "\t$\\dots$ & $\\dots$ & $\\dots$ & $\\dots$ & $\\dots$ \\\\\n",
       "\\end{tabular}\n"
      ],
      "text/plain": [
       "2238×4 DataFrame\n",
       "│ Row  │ model    │ year       │ variable │ value     │\n",
       "│      │ \u001b[90mString\u001b[39m   │ \u001b[90mDate\u001b[39m       │ \u001b[90mAny\u001b[39m      │ \u001b[90mFloat64⍰\u001b[39m  │\n",
       "├──────┼──────────┼────────────┼──────────┼───────────┤\n",
       "│ 1    │ RCP 8.5  │ 1765-01-01 │ CO2_RF   │ 0.0       │\n",
       "│ 2    │ RCP 8.5  │ 1766-01-01 │ CO2_RF   │ 0.0110491 │\n",
       "│ 3    │ RCP 8.5  │ 1767-01-01 │ CO2_RF   │ 0.023246  │\n",
       "│ 4    │ RCP 8.5  │ 1768-01-01 │ CO2_RF   │ 0.0256052 │\n",
       "│ 5    │ RCP 8.5  │ 1769-01-01 │ CO2_RF   │ 0.028057  │\n",
       "│ 6    │ RCP 8.5  │ 1770-01-01 │ CO2_RF   │ 0.0305529 │\n",
       "│ 7    │ RCP 8.5  │ 1771-01-01 │ CO2_RF   │ 0.0330936 │\n",
       "│ 8    │ RCP 8.5  │ 1772-01-01 │ CO2_RF   │ 0.0357058 │\n",
       "│ 9    │ RCP 8.5  │ 1773-01-01 │ CO2_RF   │ 0.0383971 │\n",
       "│ 10   │ RCP 8.5  │ 1774-01-01 │ CO2_RF   │ 0.0411609 │\n",
       "⋮\n",
       "│ 2228 │ PAGE-ICE │ 2300-01-01 │ CH4_RF   │ 1.17983   │\n",
       "│ 2229 │ PAGE-ICE │ 2020-01-01 │ N2O_RF   │ 0.185919  │\n",
       "│ 2230 │ PAGE-ICE │ 2030-01-01 │ N2O_RF   │ 0.22189   │\n",
       "│ 2231 │ PAGE-ICE │ 2040-01-01 │ N2O_RF   │ 0.260321  │\n",
       "│ 2232 │ PAGE-ICE │ 2050-01-01 │ N2O_RF   │ 0.299733  │\n",
       "│ 2233 │ PAGE-ICE │ 2075-01-01 │ N2O_RF   │ 0.393932  │\n",
       "│ 2234 │ PAGE-ICE │ 2100-01-01 │ N2O_RF   │ 0.481475  │\n",
       "│ 2235 │ PAGE-ICE │ 2150-01-01 │ N2O_RF   │ 0.614797  │\n",
       "│ 2236 │ PAGE-ICE │ 2200-01-01 │ N2O_RF   │ 0.696971  │\n",
       "│ 2237 │ PAGE-ICE │ 2250-01-01 │ N2O_RF   │ 0.748552  │\n",
       "│ 2238 │ PAGE-ICE │ 2300-01-01 │ N2O_RF   │ 0.781269  │"
      ]
     },
     "execution_count": 3,
     "metadata": {},
     "output_type": "execute_result"
    }
   ],
   "source": [
    "# Load the RCP 8.5 radiative forcings (by gas)\n",
    "\n",
    "df_rcp = load(\"rcp85-radforcing.csv\", colnames=Dict(\"v YEARS/GAS >\" => \"year\")) |>\n",
    "    @map({_.year, _.CO2_RF, _.CH4_RF, _.N2O_RF}) |> \n",
    "    DataFrame\n",
    "\n",
    "\n",
    "df_rcp = stack(df_rcp, [:CO2_RF, :CH4_RF, :N2O_RF])\n",
    "df_rcp[:model] = \"RCP 8.5\"\n",
    "\n",
    "df_rcp = df_rcp |> @map({_.model, _.year, _.variable, _.value}) |> DataFrame\n",
    "\n",
    "df_page_co2 = getdataframe(m, :co2forcing, :f_CO2forcing) |>\n",
    "    @map({variable=\"CO2_RF\", value=_.f_CO2forcing, year=_.time, model=\"PAGE-ICE\"}) |>\n",
    "    DataFrame\n",
    "\n",
    "df_page_ch4 = getdataframe(m, :ch4forcing, :f_CH4forcing) |>\n",
    "    @map({variable=\"CH4_RF\", value=_.f_CH4forcing, year=_.time, model=\"PAGE-ICE\"}) |>\n",
    "    DataFrame\n",
    "\n",
    "df_page_n2o = getdataframe(m, :n2oforcing, :f_N2Oforcing) |>\n",
    "    @map({variable=\"N2O_RF\", value=_.f_N2Oforcing, year=_.time, model=\"PAGE-ICE\"}) |>\n",
    "    DataFrame\n",
    "\n",
    "df = vcat(df_rcp, df_page_co2, df_page_ch4, df_page_n2o)\n",
    "\n",
    "df[:year] = Date.(df[:year])\n",
    "df"
   ]
  },
  {
   "cell_type": "markdown",
   "metadata": {},
   "source": [
    "Here we produce a comparison dataframe, between `estimated` radiative forcings for CO2, N2O, and CH4, and those under RCP 8.5 (labeled by `rcp85`)."
   ]
  },
  {
   "cell_type": "code",
   "execution_count": 4,
   "metadata": {},
   "outputs": [
    {
     "data": {
      "application/vnd.vegalite.v3+json": {
       "data": {
        "values": [
         {
          "model": "RCP 8.5",
          "value": 1.5559009,
          "variable": "CO2_RF",
          "year": "2001-01-01"
         },
         {
          "model": "RCP 8.5",
          "value": 1.5854995,
          "variable": "CO2_RF",
          "year": "2002-01-01"
         },
         {
          "model": "RCP 8.5",
          "value": 1.6175545,
          "variable": "CO2_RF",
          "year": "2003-01-01"
         },
         {
          "model": "RCP 8.5",
          "value": 1.6467939,
          "variable": "CO2_RF",
          "year": "2004-01-01"
         },
         {
          "model": "RCP 8.5",
          "value": 1.675125,
          "variable": "CO2_RF",
          "year": "2005-01-01"
         },
         {
          "model": "RCP 8.5",
          "value": 1.7035227,
          "variable": "CO2_RF",
          "year": "2006-01-01"
         },
         {
          "model": "RCP 8.5",
          "value": 1.7308597,
          "variable": "CO2_RF",
          "year": "2007-01-01"
         },
         {
          "model": "RCP 8.5",
          "value": 1.7590634,
          "variable": "CO2_RF",
          "year": "2008-01-01"
         },
         {
          "model": "RCP 8.5",
          "value": 1.7897426,
          "variable": "CO2_RF",
          "year": "2009-01-01"
         },
         {
          "model": "RCP 8.5",
          "value": 1.821622,
          "variable": "CO2_RF",
          "year": "2010-01-01"
         },
         {
          "model": "RCP 8.5",
          "value": 1.8533382,
          "variable": "CO2_RF",
          "year": "2011-01-01"
         },
         {
          "model": "RCP 8.5",
          "value": 1.885638,
          "variable": "CO2_RF",
          "year": "2012-01-01"
         },
         {
          "model": "RCP 8.5",
          "value": 1.9188853,
          "variable": "CO2_RF",
          "year": "2013-01-01"
         },
         {
          "model": "RCP 8.5",
          "value": 1.9530678,
          "variable": "CO2_RF",
          "year": "2014-01-01"
         },
         {
          "model": "RCP 8.5",
          "value": 1.9881493,
          "variable": "CO2_RF",
          "year": "2015-01-01"
         },
         {
          "model": "RCP 8.5",
          "value": 2.0240135,
          "variable": "CO2_RF",
          "year": "2016-01-01"
         },
         {
          "model": "RCP 8.5",
          "value": 2.0605256,
          "variable": "CO2_RF",
          "year": "2017-01-01"
         },
         {
          "model": "RCP 8.5",
          "value": 2.0976187,
          "variable": "CO2_RF",
          "year": "2018-01-01"
         },
         {
          "model": "RCP 8.5",
          "value": 2.1352784,
          "variable": "CO2_RF",
          "year": "2019-01-01"
         },
         {
          "model": "RCP 8.5",
          "value": 2.1735014,
          "variable": "CO2_RF",
          "year": "2020-01-01"
         },
         {
          "model": "RCP 8.5",
          "value": 2.2121869,
          "variable": "CO2_RF",
          "year": "2021-01-01"
         },
         {
          "model": "RCP 8.5",
          "value": 2.2512548,
          "variable": "CO2_RF",
          "year": "2022-01-01"
         },
         {
          "model": "RCP 8.5",
          "value": 2.2908228,
          "variable": "CO2_RF",
          "year": "2023-01-01"
         },
         {
          "model": "RCP 8.5",
          "value": 2.3310047,
          "variable": "CO2_RF",
          "year": "2024-01-01"
         },
         {
          "model": "RCP 8.5",
          "value": 2.3718144,
          "variable": "CO2_RF",
          "year": "2025-01-01"
         },
         {
          "model": "RCP 8.5",
          "value": 2.4132271,
          "variable": "CO2_RF",
          "year": "2026-01-01"
         },
         {
          "model": "RCP 8.5",
          "value": 2.4551395,
          "variable": "CO2_RF",
          "year": "2027-01-01"
         },
         {
          "model": "RCP 8.5",
          "value": 2.4974276,
          "variable": "CO2_RF",
          "year": "2028-01-01"
         },
         {
          "model": "RCP 8.5",
          "value": 2.5400311,
          "variable": "CO2_RF",
          "year": "2029-01-01"
         },
         {
          "model": "RCP 8.5",
          "value": 2.5829415,
          "variable": "CO2_RF",
          "year": "2030-01-01"
         },
         {
          "model": "RCP 8.5",
          "value": 2.6261583,
          "variable": "CO2_RF",
          "year": "2031-01-01"
         },
         {
          "model": "RCP 8.5",
          "value": 2.6697873,
          "variable": "CO2_RF",
          "year": "2032-01-01"
         },
         {
          "model": "RCP 8.5",
          "value": 2.7140357,
          "variable": "CO2_RF",
          "year": "2033-01-01"
         },
         {
          "model": "RCP 8.5",
          "value": 2.7590846,
          "variable": "CO2_RF",
          "year": "2034-01-01"
         },
         {
          "model": "RCP 8.5",
          "value": 2.8050206,
          "variable": "CO2_RF",
          "year": "2035-01-01"
         },
         {
          "model": "RCP 8.5",
          "value": 2.8518385,
          "variable": "CO2_RF",
          "year": "2036-01-01"
         },
         {
          "model": "RCP 8.5",
          "value": 2.8995034,
          "variable": "CO2_RF",
          "year": "2037-01-01"
         },
         {
          "model": "RCP 8.5",
          "value": 2.9479034,
          "variable": "CO2_RF",
          "year": "2038-01-01"
         },
         {
          "model": "RCP 8.5",
          "value": 2.9969033,
          "variable": "CO2_RF",
          "year": "2039-01-01"
         },
         {
          "model": "RCP 8.5",
          "value": 3.0464317,
          "variable": "CO2_RF",
          "year": "2040-01-01"
         },
         {
          "model": "RCP 8.5",
          "value": 3.0964671,
          "variable": "CO2_RF",
          "year": "2041-01-01"
         },
         {
          "model": "RCP 8.5",
          "value": 3.1471165,
          "variable": "CO2_RF",
          "year": "2042-01-01"
         },
         {
          "model": "RCP 8.5",
          "value": 3.1983817,
          "variable": "CO2_RF",
          "year": "2043-01-01"
         },
         {
          "model": "RCP 8.5",
          "value": 3.2502464,
          "variable": "CO2_RF",
          "year": "2044-01-01"
         },
         {
          "model": "RCP 8.5",
          "value": 3.3028683,
          "variable": "CO2_RF",
          "year": "2045-01-01"
         },
         {
          "model": "RCP 8.5",
          "value": 3.3563298,
          "variable": "CO2_RF",
          "year": "2046-01-01"
         },
         {
          "model": "RCP 8.5",
          "value": 3.4106416,
          "variable": "CO2_RF",
          "year": "2047-01-01"
         },
         {
          "model": "RCP 8.5",
          "value": 3.4657699,
          "variable": "CO2_RF",
          "year": "2048-01-01"
         },
         {
          "model": "RCP 8.5",
          "value": 3.5216066,
          "variable": "CO2_RF",
          "year": "2049-01-01"
         },
         {
          "model": "RCP 8.5",
          "value": 3.5780214,
          "variable": "CO2_RF",
          "year": "2050-01-01"
         },
         {
          "model": "RCP 8.5",
          "value": 3.6349415,
          "variable": "CO2_RF",
          "year": "2051-01-01"
         },
         {
          "model": "RCP 8.5",
          "value": 3.6923356,
          "variable": "CO2_RF",
          "year": "2052-01-01"
         },
         {
          "model": "RCP 8.5",
          "value": 3.7501795,
          "variable": "CO2_RF",
          "year": "2053-01-01"
         },
         {
          "model": "RCP 8.5",
          "value": 3.80836,
          "variable": "CO2_RF",
          "year": "2054-01-01"
         },
         {
          "model": "RCP 8.5",
          "value": 3.8668774,
          "variable": "CO2_RF",
          "year": "2055-01-01"
         },
         {
          "model": "RCP 8.5",
          "value": 3.9259045,
          "variable": "CO2_RF",
          "year": "2056-01-01"
         },
         {
          "model": "RCP 8.5",
          "value": 3.9855223,
          "variable": "CO2_RF",
          "year": "2057-01-01"
         },
         {
          "model": "RCP 8.5",
          "value": 4.0457482,
          "variable": "CO2_RF",
          "year": "2058-01-01"
         },
         {
          "model": "RCP 8.5",
          "value": 4.1065645,
          "variable": "CO2_RF",
          "year": "2059-01-01"
         },
         {
          "model": "RCP 8.5",
          "value": 4.1678751,
          "variable": "CO2_RF",
          "year": "2060-01-01"
         },
         {
          "model": "RCP 8.5",
          "value": 4.2295627,
          "variable": "CO2_RF",
          "year": "2061-01-01"
         },
         {
          "model": "RCP 8.5",
          "value": 4.2913522,
          "variable": "CO2_RF",
          "year": "2062-01-01"
         },
         {
          "model": "RCP 8.5",
          "value": 4.3530331,
          "variable": "CO2_RF",
          "year": "2063-01-01"
         },
         {
          "model": "RCP 8.5",
          "value": 4.4146265,
          "variable": "CO2_RF",
          "year": "2064-01-01"
         },
         {
          "model": "RCP 8.5",
          "value": 4.4760619,
          "variable": "CO2_RF",
          "year": "2065-01-01"
         },
         {
          "model": "RCP 8.5",
          "value": 4.5373493,
          "variable": "CO2_RF",
          "year": "2066-01-01"
         },
         {
          "model": "RCP 8.5",
          "value": 4.5986256,
          "variable": "CO2_RF",
          "year": "2067-01-01"
         },
         {
          "model": "RCP 8.5",
          "value": 4.6600234,
          "variable": "CO2_RF",
          "year": "2068-01-01"
         },
         {
          "model": "RCP 8.5",
          "value": 4.7216313,
          "variable": "CO2_RF",
          "year": "2069-01-01"
         },
         {
          "model": "RCP 8.5",
          "value": 4.783432,
          "variable": "CO2_RF",
          "year": "2070-01-01"
         },
         {
          "model": "RCP 8.5",
          "value": 4.8453387,
          "variable": "CO2_RF",
          "year": "2071-01-01"
         },
         {
          "model": "RCP 8.5",
          "value": 4.9070872,
          "variable": "CO2_RF",
          "year": "2072-01-01"
         },
         {
          "model": "RCP 8.5",
          "value": 4.9684716,
          "variable": "CO2_RF",
          "year": "2073-01-01"
         },
         {
          "model": "RCP 8.5",
          "value": 5.0295014,
          "variable": "CO2_RF",
          "year": "2074-01-01"
         },
         {
          "model": "RCP 8.5",
          "value": 5.0901899,
          "variable": "CO2_RF",
          "year": "2075-01-01"
         },
         {
          "model": "RCP 8.5",
          "value": 5.1504687,
          "variable": "CO2_RF",
          "year": "2076-01-01"
         },
         {
          "model": "RCP 8.5",
          "value": 5.2104416,
          "variable": "CO2_RF",
          "year": "2077-01-01"
         },
         {
          "model": "RCP 8.5",
          "value": 5.2700855,
          "variable": "CO2_RF",
          "year": "2078-01-01"
         },
         {
          "model": "RCP 8.5",
          "value": 5.3295268,
          "variable": "CO2_RF",
          "year": "2079-01-01"
         },
         {
          "model": "RCP 8.5",
          "value": 5.3889983,
          "variable": "CO2_RF",
          "year": "2080-01-01"
         },
         {
          "model": "RCP 8.5",
          "value": 5.4484066,
          "variable": "CO2_RF",
          "year": "2081-01-01"
         },
         {
          "model": "RCP 8.5",
          "value": 5.5076312,
          "variable": "CO2_RF",
          "year": "2082-01-01"
         },
         {
          "model": "RCP 8.5",
          "value": 5.5665288,
          "variable": "CO2_RF",
          "year": "2083-01-01"
         },
         {
          "model": "RCP 8.5",
          "value": 5.6250383,
          "variable": "CO2_RF",
          "year": "2084-01-01"
         },
         {
          "model": "RCP 8.5",
          "value": 5.6831731,
          "variable": "CO2_RF",
          "year": "2085-01-01"
         },
         {
          "model": "RCP 8.5",
          "value": 5.7409665,
          "variable": "CO2_RF",
          "year": "2086-01-01"
         },
         {
          "model": "RCP 8.5",
          "value": 5.7982197,
          "variable": "CO2_RF",
          "year": "2087-01-01"
         },
         {
          "model": "RCP 8.5",
          "value": 5.8550437,
          "variable": "CO2_RF",
          "year": "2088-01-01"
         },
         {
          "model": "RCP 8.5",
          "value": 5.9116789,
          "variable": "CO2_RF",
          "year": "2089-01-01"
         },
         {
          "model": "RCP 8.5",
          "value": 5.9680382,
          "variable": "CO2_RF",
          "year": "2090-01-01"
         },
         {
          "model": "RCP 8.5",
          "value": 6.02426,
          "variable": "CO2_RF",
          "year": "2091-01-01"
         },
         {
          "model": "RCP 8.5",
          "value": 6.0803942,
          "variable": "CO2_RF",
          "year": "2092-01-01"
         },
         {
          "model": "RCP 8.5",
          "value": 6.1362544,
          "variable": "CO2_RF",
          "year": "2093-01-01"
         },
         {
          "model": "RCP 8.5",
          "value": 6.1917609,
          "variable": "CO2_RF",
          "year": "2094-01-01"
         },
         {
          "model": "RCP 8.5",
          "value": 6.2468765,
          "variable": "CO2_RF",
          "year": "2095-01-01"
         },
         {
          "model": "RCP 8.5",
          "value": 6.3015802,
          "variable": "CO2_RF",
          "year": "2096-01-01"
         },
         {
          "model": "RCP 8.5",
          "value": 6.3558614,
          "variable": "CO2_RF",
          "year": "2097-01-01"
         },
         {
          "model": "RCP 8.5",
          "value": 6.4097028,
          "variable": "CO2_RF",
          "year": "2098-01-01"
         },
         {
          "model": "RCP 8.5",
          "value": 6.4630729,
          "variable": "CO2_RF",
          "year": "2099-01-01"
         },
         {
          "model": "RCP 8.5",
          "value": 6.5160029,
          "variable": "CO2_RF",
          "year": "2100-01-01"
         },
         {
          "model": "RCP 8.5",
          "value": 6.5686894,
          "variable": "CO2_RF",
          "year": "2101-01-01"
         },
         {
          "model": "RCP 8.5",
          "value": 6.6212902,
          "variable": "CO2_RF",
          "year": "2102-01-01"
         },
         {
          "model": "RCP 8.5",
          "value": 6.6735957,
          "variable": "CO2_RF",
          "year": "2103-01-01"
         },
         {
          "model": "RCP 8.5",
          "value": 6.725553,
          "variable": "CO2_RF",
          "year": "2104-01-01"
         },
         {
          "model": "RCP 8.5",
          "value": 6.7772173,
          "variable": "CO2_RF",
          "year": "2105-01-01"
         },
         {
          "model": "RCP 8.5",
          "value": 6.8285113,
          "variable": "CO2_RF",
          "year": "2106-01-01"
         },
         {
          "model": "RCP 8.5",
          "value": 6.879456,
          "variable": "CO2_RF",
          "year": "2107-01-01"
         },
         {
          "model": "RCP 8.5",
          "value": 6.9299196,
          "variable": "CO2_RF",
          "year": "2108-01-01"
         },
         {
          "model": "RCP 8.5",
          "value": 6.9799188,
          "variable": "CO2_RF",
          "year": "2109-01-01"
         },
         {
          "model": "RCP 8.5",
          "value": 7.0294685,
          "variable": "CO2_RF",
          "year": "2110-01-01"
         },
         {
          "model": "RCP 8.5",
          "value": 7.0785474,
          "variable": "CO2_RF",
          "year": "2111-01-01"
         },
         {
          "model": "RCP 8.5",
          "value": 7.1274107,
          "variable": "CO2_RF",
          "year": "2112-01-01"
         },
         {
          "model": "RCP 8.5",
          "value": 7.1760494,
          "variable": "CO2_RF",
          "year": "2113-01-01"
         },
         {
          "model": "RCP 8.5",
          "value": 7.2244717,
          "variable": "CO2_RF",
          "year": "2114-01-01"
         },
         {
          "model": "RCP 8.5",
          "value": 7.2727415,
          "variable": "CO2_RF",
          "year": "2115-01-01"
         },
         {
          "model": "RCP 8.5",
          "value": 7.3206906,
          "variable": "CO2_RF",
          "year": "2116-01-01"
         },
         {
          "model": "RCP 8.5",
          "value": 7.3683597,
          "variable": "CO2_RF",
          "year": "2117-01-01"
         },
         {
          "model": "RCP 8.5",
          "value": 7.4156853,
          "variable": "CO2_RF",
          "year": "2118-01-01"
         },
         {
          "model": "RCP 8.5",
          "value": 7.4625457,
          "variable": "CO2_RF",
          "year": "2119-01-01"
         },
         {
          "model": "RCP 8.5",
          "value": 7.5090525,
          "variable": "CO2_RF",
          "year": "2120-01-01"
         },
         {
          "model": "RCP 8.5",
          "value": 7.5551376,
          "variable": "CO2_RF",
          "year": "2121-01-01"
         },
         {
          "model": "RCP 8.5",
          "value": 7.6007844,
          "variable": "CO2_RF",
          "year": "2122-01-01"
         },
         {
          "model": "RCP 8.5",
          "value": 7.6462257,
          "variable": "CO2_RF",
          "year": "2123-01-01"
         },
         {
          "model": "RCP 8.5",
          "value": 7.6915683,
          "variable": "CO2_RF",
          "year": "2124-01-01"
         },
         {
          "model": "RCP 8.5",
          "value": 7.7367294,
          "variable": "CO2_RF",
          "year": "2125-01-01"
         },
         {
          "model": "RCP 8.5",
          "value": 7.7816681,
          "variable": "CO2_RF",
          "year": "2126-01-01"
         },
         {
          "model": "RCP 8.5",
          "value": 7.82642,
          "variable": "CO2_RF",
          "year": "2127-01-01"
         },
         {
          "model": "RCP 8.5",
          "value": 7.8709787,
          "variable": "CO2_RF",
          "year": "2128-01-01"
         },
         {
          "model": "RCP 8.5",
          "value": 7.9151488,
          "variable": "CO2_RF",
          "year": "2129-01-01"
         },
         {
          "model": "RCP 8.5",
          "value": 7.9589474,
          "variable": "CO2_RF",
          "year": "2130-01-01"
         },
         {
          "model": "RCP 8.5",
          "value": 8.0024321,
          "variable": "CO2_RF",
          "year": "2131-01-01"
         },
         {
          "model": "RCP 8.5",
          "value": 8.0454518,
          "variable": "CO2_RF",
          "year": "2132-01-01"
         },
         {
          "model": "RCP 8.5",
          "value": 8.0881633,
          "variable": "CO2_RF",
          "year": "2133-01-01"
         },
         {
          "model": "RCP 8.5",
          "value": 8.1307319,
          "variable": "CO2_RF",
          "year": "2134-01-01"
         },
         {
          "model": "RCP 8.5",
          "value": 8.1731285,
          "variable": "CO2_RF",
          "year": "2135-01-01"
         },
         {
          "model": "RCP 8.5",
          "value": 8.2153868,
          "variable": "CO2_RF",
          "year": "2136-01-01"
         },
         {
          "model": "RCP 8.5",
          "value": 8.2575571,
          "variable": "CO2_RF",
          "year": "2137-01-01"
         },
         {
          "model": "RCP 8.5",
          "value": 8.2995232,
          "variable": "CO2_RF",
          "year": "2138-01-01"
         },
         {
          "model": "RCP 8.5",
          "value": 8.3411989,
          "variable": "CO2_RF",
          "year": "2139-01-01"
         },
         {
          "model": "RCP 8.5",
          "value": 8.3826114,
          "variable": "CO2_RF",
          "year": "2140-01-01"
         },
         {
          "model": "RCP 8.5",
          "value": 8.4237532,
          "variable": "CO2_RF",
          "year": "2141-01-01"
         },
         {
          "model": "RCP 8.5",
          "value": 8.4645674,
          "variable": "CO2_RF",
          "year": "2142-01-01"
         },
         {
          "model": "RCP 8.5",
          "value": 8.5050026,
          "variable": "CO2_RF",
          "year": "2143-01-01"
         },
         {
          "model": "RCP 8.5",
          "value": 8.5451097,
          "variable": "CO2_RF",
          "year": "2144-01-01"
         },
         {
          "model": "RCP 8.5",
          "value": 8.5850075,
          "variable": "CO2_RF",
          "year": "2145-01-01"
         },
         {
          "model": "RCP 8.5",
          "value": 8.6248156,
          "variable": "CO2_RF",
          "year": "2146-01-01"
         },
         {
          "model": "RCP 8.5",
          "value": 8.6645648,
          "variable": "CO2_RF",
          "year": "2147-01-01"
         },
         {
          "model": "RCP 8.5",
          "value": 8.7041744,
          "variable": "CO2_RF",
          "year": "2148-01-01"
         },
         {
          "model": "RCP 8.5",
          "value": 8.7436402,
          "variable": "CO2_RF",
          "year": "2149-01-01"
         },
         {
          "model": "RCP 8.5",
          "value": 8.7829155,
          "variable": "CO2_RF",
          "year": "2150-01-01"
         },
         {
          "model": "RCP 8.5",
          "value": 8.8218612,
          "variable": "CO2_RF",
          "year": "2151-01-01"
         },
         {
          "model": "RCP 8.5",
          "value": 8.8602943,
          "variable": "CO2_RF",
          "year": "2152-01-01"
         },
         {
          "model": "RCP 8.5",
          "value": 8.8980595,
          "variable": "CO2_RF",
          "year": "2153-01-01"
         },
         {
          "model": "RCP 8.5",
          "value": 8.9349932,
          "variable": "CO2_RF",
          "year": "2154-01-01"
         },
         {
          "model": "RCP 8.5",
          "value": 8.9711403,
          "variable": "CO2_RF",
          "year": "2155-01-01"
         },
         {
          "model": "RCP 8.5",
          "value": 9.0068072,
          "variable": "CO2_RF",
          "year": "2156-01-01"
         },
         {
          "model": "RCP 8.5",
          "value": 9.0420434,
          "variable": "CO2_RF",
          "year": "2157-01-01"
         },
         {
          "model": "RCP 8.5",
          "value": 9.0767433,
          "variable": "CO2_RF",
          "year": "2158-01-01"
         },
         {
          "model": "RCP 8.5",
          "value": 9.1109311,
          "variable": "CO2_RF",
          "year": "2159-01-01"
         },
         {
          "model": "RCP 8.5",
          "value": 9.1446166,
          "variable": "CO2_RF",
          "year": "2160-01-01"
         },
         {
          "model": "RCP 8.5",
          "value": 9.1777623,
          "variable": "CO2_RF",
          "year": "2161-01-01"
         },
         {
          "model": "RCP 8.5",
          "value": 9.2103383,
          "variable": "CO2_RF",
          "year": "2162-01-01"
         },
         {
          "model": "RCP 8.5",
          "value": 9.2423292,
          "variable": "CO2_RF",
          "year": "2163-01-01"
         },
         {
          "model": "RCP 8.5",
          "value": 9.2737893,
          "variable": "CO2_RF",
          "year": "2164-01-01"
         },
         {
          "model": "RCP 8.5",
          "value": 9.3045366,
          "variable": "CO2_RF",
          "year": "2165-01-01"
         },
         {
          "model": "RCP 8.5",
          "value": 9.3345822,
          "variable": "CO2_RF",
          "year": "2166-01-01"
         },
         {
          "model": "RCP 8.5",
          "value": 9.3642581,
          "variable": "CO2_RF",
          "year": "2167-01-01"
         },
         {
          "model": "RCP 8.5",
          "value": 9.3935886,
          "variable": "CO2_RF",
          "year": "2168-01-01"
         },
         {
          "model": "RCP 8.5",
          "value": 9.4225049,
          "variable": "CO2_RF",
          "year": "2169-01-01"
         },
         {
          "model": "RCP 8.5",
          "value": 9.4509909,
          "variable": "CO2_RF",
          "year": "2170-01-01"
         },
         {
          "model": "RCP 8.5",
          "value": 9.4790427,
          "variable": "CO2_RF",
          "year": "2171-01-01"
         },
         {
          "model": "RCP 8.5",
          "value": 9.5066362,
          "variable": "CO2_RF",
          "year": "2172-01-01"
         },
         {
          "model": "RCP 8.5",
          "value": 9.5337563,
          "variable": "CO2_RF",
          "year": "2173-01-01"
         },
         {
          "model": "RCP 8.5",
          "value": 9.5604017,
          "variable": "CO2_RF",
          "year": "2174-01-01"
         },
         {
          "model": "RCP 8.5",
          "value": 9.5865205,
          "variable": "CO2_RF",
          "year": "2175-01-01"
         },
         {
          "model": "RCP 8.5",
          "value": 9.6119961,
          "variable": "CO2_RF",
          "year": "2176-01-01"
         },
         {
          "model": "RCP 8.5",
          "value": 9.6368833,
          "variable": "CO2_RF",
          "year": "2177-01-01"
         },
         {
          "model": "RCP 8.5",
          "value": 9.6614046,
          "variable": "CO2_RF",
          "year": "2178-01-01"
         },
         {
          "model": "RCP 8.5",
          "value": 9.6856202,
          "variable": "CO2_RF",
          "year": "2179-01-01"
         },
         {
          "model": "RCP 8.5",
          "value": 9.7095102,
          "variable": "CO2_RF",
          "year": "2180-01-01"
         },
         {
          "model": "RCP 8.5",
          "value": 9.7330781,
          "variable": "CO2_RF",
          "year": "2181-01-01"
         },
         {
          "model": "RCP 8.5",
          "value": 9.7562708,
          "variable": "CO2_RF",
          "year": "2182-01-01"
         },
         {
          "model": "RCP 8.5",
          "value": 9.7790706,
          "variable": "CO2_RF",
          "year": "2183-01-01"
         },
         {
          "model": "RCP 8.5",
          "value": 9.8014465,
          "variable": "CO2_RF",
          "year": "2184-01-01"
         },
         {
          "model": "RCP 8.5",
          "value": 9.8233025,
          "variable": "CO2_RF",
          "year": "2185-01-01"
         },
         {
          "model": "RCP 8.5",
          "value": 9.8446793,
          "variable": "CO2_RF",
          "year": "2186-01-01"
         },
         {
          "model": "RCP 8.5",
          "value": 9.8655411,
          "variable": "CO2_RF",
          "year": "2187-01-01"
         },
         {
          "model": "RCP 8.5",
          "value": 9.8858665,
          "variable": "CO2_RF",
          "year": "2188-01-01"
         },
         {
          "model": "RCP 8.5",
          "value": 9.9058265,
          "variable": "CO2_RF",
          "year": "2189-01-01"
         },
         {
          "model": "RCP 8.5",
          "value": 9.9255089,
          "variable": "CO2_RF",
          "year": "2190-01-01"
         },
         {
          "model": "RCP 8.5",
          "value": 9.9449228,
          "variable": "CO2_RF",
          "year": "2191-01-01"
         },
         {
          "model": "RCP 8.5",
          "value": 9.964045,
          "variable": "CO2_RF",
          "year": "2192-01-01"
         },
         {
          "model": "RCP 8.5",
          "value": 9.9828425,
          "variable": "CO2_RF",
          "year": "2193-01-01"
         },
         {
          "model": "RCP 8.5",
          "value": 10.001251,
          "variable": "CO2_RF",
          "year": "2194-01-01"
         },
         {
          "model": "RCP 8.5",
          "value": 10.019232,
          "variable": "CO2_RF",
          "year": "2195-01-01"
         },
         {
          "model": "RCP 8.5",
          "value": 10.036839,
          "variable": "CO2_RF",
          "year": "2196-01-01"
         },
         {
          "model": "RCP 8.5",
          "value": 10.053955,
          "variable": "CO2_RF",
          "year": "2197-01-01"
         },
         {
          "model": "RCP 8.5",
          "value": 10.070532,
          "variable": "CO2_RF",
          "year": "2198-01-01"
         },
         {
          "model": "RCP 8.5",
          "value": 10.086721,
          "variable": "CO2_RF",
          "year": "2199-01-01"
         },
         {
          "model": "RCP 8.5",
          "value": 10.102564,
          "variable": "CO2_RF",
          "year": "2200-01-01"
         },
         {
          "model": "RCP 8.5",
          "value": 0.4792313,
          "variable": "CH4_RF",
          "year": "2001-01-01"
         },
         {
          "model": "RCP 8.5",
          "value": 0.47978539,
          "variable": "CH4_RF",
          "year": "2002-01-01"
         },
         {
          "model": "RCP 8.5",
          "value": 0.48074821,
          "variable": "CH4_RF",
          "year": "2003-01-01"
         },
         {
          "model": "RCP 8.5",
          "value": 0.48086234,
          "variable": "CH4_RF",
          "year": "2004-01-01"
         },
         {
          "model": "RCP 8.5",
          "value": 0.48036474,
          "variable": "CH4_RF",
          "year": "2005-01-01"
         },
         {
          "model": "RCP 8.5",
          "value": 0.48065541,
          "variable": "CH4_RF",
          "year": "2006-01-01"
         },
         {
          "model": "RCP 8.5",
          "value": 0.48197675,
          "variable": "CH4_RF",
          "year": "2007-01-01"
         },
         {
          "model": "RCP 8.5",
          "value": 0.48398319,
          "variable": "CH4_RF",
          "year": "2008-01-01"
         },
         {
          "model": "RCP 8.5",
          "value": 0.48660099,
          "variable": "CH4_RF",
          "year": "2009-01-01"
         },
         {
          "model": "RCP 8.5",
          "value": 0.48966278,
          "variable": "CH4_RF",
          "year": "2010-01-01"
         },
         {
          "model": "RCP 8.5",
          "value": 0.49313234,
          "variable": "CH4_RF",
          "year": "2011-01-01"
         },
         {
          "model": "RCP 8.5",
          "value": 0.49704825,
          "variable": "CH4_RF",
          "year": "2012-01-01"
         },
         {
          "model": "RCP 8.5",
          "value": 0.50143706,
          "variable": "CH4_RF",
          "year": "2013-01-01"
         },
         {
          "model": "RCP 8.5",
          "value": 0.50626431,
          "variable": "CH4_RF",
          "year": "2014-01-01"
         },
         {
          "model": "RCP 8.5",
          "value": 0.51150171,
          "variable": "CH4_RF",
          "year": "2015-01-01"
         },
         {
          "model": "RCP 8.5",
          "value": 0.51711044,
          "variable": "CH4_RF",
          "year": "2016-01-01"
         },
         {
          "model": "RCP 8.5",
          "value": 0.52304484,
          "variable": "CH4_RF",
          "year": "2017-01-01"
         },
         {
          "model": "RCP 8.5",
          "value": 0.52926581,
          "variable": "CH4_RF",
          "year": "2018-01-01"
         },
         {
          "model": "RCP 8.5",
          "value": 0.53574053,
          "variable": "CH4_RF",
          "year": "2019-01-01"
         },
         {
          "model": "RCP 8.5",
          "value": 0.54243872,
          "variable": "CH4_RF",
          "year": "2020-01-01"
         },
         {
          "model": "RCP 8.5",
          "value": 0.54930553,
          "variable": "CH4_RF",
          "year": "2021-01-01"
         },
         {
          "model": "RCP 8.5",
          "value": 0.55627484,
          "variable": "CH4_RF",
          "year": "2022-01-01"
         },
         {
          "model": "RCP 8.5",
          "value": 0.56332393,
          "variable": "CH4_RF",
          "year": "2023-01-01"
         },
         {
          "model": "RCP 8.5",
          "value": 0.57045553,
          "variable": "CH4_RF",
          "year": "2024-01-01"
         },
         {
          "model": "RCP 8.5",
          "value": 0.57767104,
          "variable": "CH4_RF",
          "year": "2025-01-01"
         },
         {
          "model": "RCP 8.5",
          "value": 0.58497465,
          "variable": "CH4_RF",
          "year": "2026-01-01"
         },
         {
          "model": "RCP 8.5",
          "value": 0.59235682,
          "variable": "CH4_RF",
          "year": "2027-01-01"
         },
         {
          "model": "RCP 8.5",
          "value": 0.59979822,
          "variable": "CH4_RF",
          "year": "2028-01-01"
         },
         {
          "model": "RCP 8.5",
          "value": 0.60728403,
          "variable": "CH4_RF",
          "year": "2029-01-01"
         },
         {
          "model": "RCP 8.5",
          "value": 0.61480394,
          "variable": "CH4_RF",
          "year": "2030-01-01"
         },
         {
          "model": "RCP 8.5",
          "value": 0.62234742,
          "variable": "CH4_RF",
          "year": "2031-01-01"
         },
         {
          "model": "RCP 8.5",
          "value": 0.63007446,
          "variable": "CH4_RF",
          "year": "2032-01-01"
         },
         {
          "model": "RCP 8.5",
          "value": 0.63814168,
          "variable": "CH4_RF",
          "year": "2033-01-01"
         },
         {
          "model": "RCP 8.5",
          "value": 0.64653114,
          "variable": "CH4_RF",
          "year": "2034-01-01"
         },
         {
          "model": "RCP 8.5",
          "value": 0.65522251,
          "variable": "CH4_RF",
          "year": "2035-01-01"
         },
         {
          "model": "RCP 8.5",
          "value": 0.66419646,
          "variable": "CH4_RF",
          "year": "2036-01-01"
         },
         {
          "model": "RCP 8.5",
          "value": 0.67343861,
          "variable": "CH4_RF",
          "year": "2037-01-01"
         },
         {
          "model": "RCP 8.5",
          "value": 0.6829216,
          "variable": "CH4_RF",
          "year": "2038-01-01"
         },
         {
          "model": "RCP 8.5",
          "value": 0.69260899,
          "variable": "CH4_RF",
          "year": "2039-01-01"
         },
         {
          "model": "RCP 8.5",
          "value": 0.7024705,
          "variable": "CH4_RF",
          "year": "2040-01-01"
         },
         {
          "model": "RCP 8.5",
          "value": 0.71248233,
          "variable": "CH4_RF",
          "year": "2041-01-01"
         },
         {
          "model": "RCP 8.5",
          "value": 0.72264463,
          "variable": "CH4_RF",
          "year": "2042-01-01"
         },
         {
          "model": "RCP 8.5",
          "value": 0.73292592,
          "variable": "CH4_RF",
          "year": "2043-01-01"
         },
         {
          "model": "RCP 8.5",
          "value": 0.74328614,
          "variable": "CH4_RF",
          "year": "2044-01-01"
         },
         {
          "model": "RCP 8.5",
          "value": 0.75373085,
          "variable": "CH4_RF",
          "year": "2045-01-01"
         },
         {
          "model": "RCP 8.5",
          "value": 0.76426205,
          "variable": "CH4_RF",
          "year": "2046-01-01"
         },
         {
          "model": "RCP 8.5",
          "value": 0.7748808,
          "variable": "CH4_RF",
          "year": "2047-01-01"
         },
         {
          "model": "RCP 8.5",
          "value": 0.78559147,
          "variable": "CH4_RF",
          "year": "2048-01-01"
         },
         {
          "model": "RCP 8.5",
          "value": 0.79638269,
          "variable": "CH4_RF",
          "year": "2049-01-01"
         },
         {
          "model": "RCP 8.5",
          "value": 0.80723136,
          "variable": "CH4_RF",
          "year": "2050-01-01"
         },
         {
          "model": "RCP 8.5",
          "value": 0.81812047,
          "variable": "CH4_RF",
          "year": "2051-01-01"
         },
         {
          "model": "RCP 8.5",
          "value": 0.82885883,
          "variable": "CH4_RF",
          "year": "2052-01-01"
         },
         {
          "model": "RCP 8.5",
          "value": 0.83927214,
          "variable": "CH4_RF",
          "year": "2053-01-01"
         },
         {
          "model": "RCP 8.5",
          "value": 0.84934866,
          "variable": "CH4_RF",
          "year": "2054-01-01"
         },
         {
          "model": "RCP 8.5",
          "value": 0.85908905,
          "variable": "CH4_RF",
          "year": "2055-01-01"
         },
         {
          "model": "RCP 8.5",
          "value": 0.86853949,
          "variable": "CH4_RF",
          "year": "2056-01-01"
         },
         {
          "model": "RCP 8.5",
          "value": 0.87773924,
          "variable": "CH4_RF",
          "year": "2057-01-01"
         },
         {
          "model": "RCP 8.5",
          "value": 0.88672301,
          "variable": "CH4_RF",
          "year": "2058-01-01"
         },
         {
          "model": "RCP 8.5",
          "value": 0.89552604,
          "variable": "CH4_RF",
          "year": "2059-01-01"
         },
         {
          "model": "RCP 8.5",
          "value": 0.90416376,
          "variable": "CH4_RF",
          "year": "2060-01-01"
         },
         {
          "model": "RCP 8.5",
          "value": 0.91263655,
          "variable": "CH4_RF",
          "year": "2061-01-01"
         },
         {
          "model": "RCP 8.5",
          "value": 0.92079151,
          "variable": "CH4_RF",
          "year": "2062-01-01"
         },
         {
          "model": "RCP 8.5",
          "value": 0.92849364,
          "variable": "CH4_RF",
          "year": "2063-01-01"
         },
         {
          "model": "RCP 8.5",
          "value": 0.93577699,
          "variable": "CH4_RF",
          "year": "2064-01-01"
         },
         {
          "model": "RCP 8.5",
          "value": 0.94263696,
          "variable": "CH4_RF",
          "year": "2065-01-01"
         },
         {
          "model": "RCP 8.5",
          "value": 0.94908086,
          "variable": "CH4_RF",
          "year": "2066-01-01"
         },
         {
          "model": "RCP 8.5",
          "value": 0.9551644,
          "variable": "CH4_RF",
          "year": "2067-01-01"
         },
         {
          "model": "RCP 8.5",
          "value": 0.96093611,
          "variable": "CH4_RF",
          "year": "2068-01-01"
         },
         {
          "model": "RCP 8.5",
          "value": 0.96643897,
          "variable": "CH4_RF",
          "year": "2069-01-01"
         },
         {
          "model": "RCP 8.5",
          "value": 0.97171588,
          "variable": "CH4_RF",
          "year": "2070-01-01"
         },
         {
          "model": "RCP 8.5",
          "value": 0.97678856,
          "variable": "CH4_RF",
          "year": "2071-01-01"
         },
         {
          "model": "RCP 8.5",
          "value": 0.98169322,
          "variable": "CH4_RF",
          "year": "2072-01-01"
         },
         {
          "model": "RCP 8.5",
          "value": 0.98646602,
          "variable": "CH4_RF",
          "year": "2073-01-01"
         },
         {
          "model": "RCP 8.5",
          "value": 0.9911134,
          "variable": "CH4_RF",
          "year": "2074-01-01"
         },
         {
          "model": "RCP 8.5",
          "value": 0.99564168,
          "variable": "CH4_RF",
          "year": "2075-01-01"
         },
         {
          "model": "RCP 8.5",
          "value": 1.0000195,
          "variable": "CH4_RF",
          "year": "2076-01-01"
         },
         {
          "model": "RCP 8.5",
          "value": 1.0042299,
          "variable": "CH4_RF",
          "year": "2077-01-01"
         },
         {
          "model": "RCP 8.5",
          "value": 1.0083088,
          "variable": "CH4_RF",
          "year": "2078-01-01"
         },
         {
          "model": "RCP 8.5",
          "value": 1.0122875,
          "variable": "CH4_RF",
          "year": "2079-01-01"
         },
         {
          "model": "RCP 8.5",
          "value": 1.0161931,
          "variable": "CH4_RF",
          "year": "2080-01-01"
         },
         {
          "model": "RCP 8.5",
          "value": 1.0200526,
          "variable": "CH4_RF",
          "year": "2081-01-01"
         },
         {
          "model": "RCP 8.5",
          "value": 1.0239124,
          "variable": "CH4_RF",
          "year": "2082-01-01"
         },
         {
          "model": "RCP 8.5",
          "value": 1.0277998,
          "variable": "CH4_RF",
          "year": "2083-01-01"
         },
         {
          "model": "RCP 8.5",
          "value": 1.0317032,
          "variable": "CH4_RF",
          "year": "2084-01-01"
         },
         {
          "model": "RCP 8.5",
          "value": 1.0356166,
          "variable": "CH4_RF",
          "year": "2085-01-01"
         },
         {
          "model": "RCP 8.5",
          "value": 1.0395349,
          "variable": "CH4_RF",
          "year": "2086-01-01"
         },
         {
          "model": "RCP 8.5",
          "value": 1.043415,
          "variable": "CH4_RF",
          "year": "2087-01-01"
         },
         {
          "model": "RCP 8.5",
          "value": 1.047229,
          "variable": "CH4_RF",
          "year": "2088-01-01"
         },
         {
          "model": "RCP 8.5",
          "value": 1.0510053,
          "variable": "CH4_RF",
          "year": "2089-01-01"
         },
         {
          "model": "RCP 8.5",
          "value": 1.0547683,
          "variable": "CH4_RF",
          "year": "2090-01-01"
         },
         {
          "model": "RCP 8.5",
          "value": 1.05854,
          "variable": "CH4_RF",
          "year": "2091-01-01"
         },
         {
          "model": "RCP 8.5",
          "value": 1.0621982,
          "variable": "CH4_RF",
          "year": "2092-01-01"
         },
         {
          "model": "RCP 8.5",
          "value": 1.0656109,
          "variable": "CH4_RF",
          "year": "2093-01-01"
         },
         {
          "model": "RCP 8.5",
          "value": 1.0687864,
          "variable": "CH4_RF",
          "year": "2094-01-01"
         },
         {
          "model": "RCP 8.5",
          "value": 1.0717352,
          "variable": "CH4_RF",
          "year": "2095-01-01"
         },
         {
          "model": "RCP 8.5",
          "value": 1.0744724,
          "variable": "CH4_RF",
          "year": "2096-01-01"
         },
         {
          "model": "RCP 8.5",
          "value": 1.0770124,
          "variable": "CH4_RF",
          "year": "2097-01-01"
         },
         {
          "model": "RCP 8.5",
          "value": 1.0793288,
          "variable": "CH4_RF",
          "year": "2098-01-01"
         },
         {
          "model": "RCP 8.5",
          "value": 1.0814087,
          "variable": "CH4_RF",
          "year": "2099-01-01"
         },
         {
          "model": "RCP 8.5",
          "value": 1.0832964,
          "variable": "CH4_RF",
          "year": "2100-01-01"
         },
         {
          "model": "RCP 8.5",
          "value": 1.0850329,
          "variable": "CH4_RF",
          "year": "2101-01-01"
         },
         {
          "model": "RCP 8.5",
          "value": 1.0865844,
          "variable": "CH4_RF",
          "year": "2102-01-01"
         },
         {
          "model": "RCP 8.5",
          "value": 1.0879219,
          "variable": "CH4_RF",
          "year": "2103-01-01"
         },
         {
          "model": "RCP 8.5",
          "value": 1.0890694,
          "variable": "CH4_RF",
          "year": "2104-01-01"
         },
         {
          "model": "RCP 8.5",
          "value": 1.0900308,
          "variable": "CH4_RF",
          "year": "2105-01-01"
         },
         {
          "model": "RCP 8.5",
          "value": 1.0908128,
          "variable": "CH4_RF",
          "year": "2106-01-01"
         },
         {
          "model": "RCP 8.5",
          "value": 1.0914268,
          "variable": "CH4_RF",
          "year": "2107-01-01"
         },
         {
          "model": "RCP 8.5",
          "value": 1.0918839,
          "variable": "CH4_RF",
          "year": "2108-01-01"
         },
         {
          "model": "RCP 8.5",
          "value": 1.0921545,
          "variable": "CH4_RF",
          "year": "2109-01-01"
         },
         {
          "model": "RCP 8.5",
          "value": 1.0922224,
          "variable": "CH4_RF",
          "year": "2110-01-01"
         },
         {
          "model": "RCP 8.5",
          "value": 1.0921298,
          "variable": "CH4_RF",
          "year": "2111-01-01"
         },
         {
          "model": "RCP 8.5",
          "value": 1.0919161,
          "variable": "CH4_RF",
          "year": "2112-01-01"
         },
         {
          "model": "RCP 8.5",
          "value": 1.0916151,
          "variable": "CH4_RF",
          "year": "2113-01-01"
         },
         {
          "model": "RCP 8.5",
          "value": 1.0912611,
          "variable": "CH4_RF",
          "year": "2114-01-01"
         },
         {
          "model": "RCP 8.5",
          "value": 1.0908652,
          "variable": "CH4_RF",
          "year": "2115-01-01"
         },
         {
          "model": "RCP 8.5",
          "value": 1.0904192,
          "variable": "CH4_RF",
          "year": "2116-01-01"
         },
         {
          "model": "RCP 8.5",
          "value": 1.0899182,
          "variable": "CH4_RF",
          "year": "2117-01-01"
         },
         {
          "model": "RCP 8.5",
          "value": 1.0893631,
          "variable": "CH4_RF",
          "year": "2118-01-01"
         },
         {
          "model": "RCP 8.5",
          "value": 1.088756,
          "variable": "CH4_RF",
          "year": "2119-01-01"
         },
         {
          "model": "RCP 8.5",
          "value": 1.0880582,
          "variable": "CH4_RF",
          "year": "2120-01-01"
         },
         {
          "model": "RCP 8.5",
          "value": 1.087245,
          "variable": "CH4_RF",
          "year": "2121-01-01"
         },
         {
          "model": "RCP 8.5",
          "value": 1.0863515,
          "variable": "CH4_RF",
          "year": "2122-01-01"
         },
         {
          "model": "RCP 8.5",
          "value": 1.0854115,
          "variable": "CH4_RF",
          "year": "2123-01-01"
         },
         {
          "model": "RCP 8.5",
          "value": 1.0844534,
          "variable": "CH4_RF",
          "year": "2124-01-01"
         },
         {
          "model": "RCP 8.5",
          "value": 1.0835063,
          "variable": "CH4_RF",
          "year": "2125-01-01"
         },
         {
          "model": "RCP 8.5",
          "value": 1.0825763,
          "variable": "CH4_RF",
          "year": "2126-01-01"
         },
         {
          "model": "RCP 8.5",
          "value": 1.0816503,
          "variable": "CH4_RF",
          "year": "2127-01-01"
         },
         {
          "model": "RCP 8.5",
          "value": 1.0807185,
          "variable": "CH4_RF",
          "year": "2128-01-01"
         },
         {
          "model": "RCP 8.5",
          "value": 1.0797775,
          "variable": "CH4_RF",
          "year": "2129-01-01"
         },
         {
          "model": "RCP 8.5",
          "value": 1.0788253,
          "variable": "CH4_RF",
          "year": "2130-01-01"
         },
         {
          "model": "RCP 8.5",
          "value": 1.0778198,
          "variable": "CH4_RF",
          "year": "2131-01-01"
         },
         {
          "model": "RCP 8.5",
          "value": 1.0767326,
          "variable": "CH4_RF",
          "year": "2132-01-01"
         },
         {
          "model": "RCP 8.5",
          "value": 1.0755959,
          "variable": "CH4_RF",
          "year": "2133-01-01"
         },
         {
          "model": "RCP 8.5",
          "value": 1.0744414,
          "variable": "CH4_RF",
          "year": "2134-01-01"
         },
         {
          "model": "RCP 8.5",
          "value": 1.0732958,
          "variable": "CH4_RF",
          "year": "2135-01-01"
         },
         {
          "model": "RCP 8.5",
          "value": 1.0721862,
          "variable": "CH4_RF",
          "year": "2136-01-01"
         },
         {
          "model": "RCP 8.5",
          "value": 1.0711172,
          "variable": "CH4_RF",
          "year": "2137-01-01"
         },
         {
          "model": "RCP 8.5",
          "value": 1.0700733,
          "variable": "CH4_RF",
          "year": "2138-01-01"
         },
         {
          "model": "RCP 8.5",
          "value": 1.0690425,
          "variable": "CH4_RF",
          "year": "2139-01-01"
         },
         {
          "model": "RCP 8.5",
          "value": 1.0680195,
          "variable": "CH4_RF",
          "year": "2140-01-01"
         },
         {
          "model": "RCP 8.5",
          "value": 1.0670007,
          "variable": "CH4_RF",
          "year": "2141-01-01"
         },
         {
          "model": "RCP 8.5",
          "value": 1.0659424,
          "variable": "CH4_RF",
          "year": "2142-01-01"
         },
         {
          "model": "RCP 8.5",
          "value": 1.0648144,
          "variable": "CH4_RF",
          "year": "2143-01-01"
         },
         {
          "model": "RCP 8.5",
          "value": 1.0636476,
          "variable": "CH4_RF",
          "year": "2144-01-01"
         },
         {
          "model": "RCP 8.5",
          "value": 1.0624735,
          "variable": "CH4_RF",
          "year": "2145-01-01"
         },
         {
          "model": "RCP 8.5",
          "value": 1.0613182,
          "variable": "CH4_RF",
          "year": "2146-01-01"
         },
         {
          "model": "RCP 8.5",
          "value": 1.0602087,
          "variable": "CH4_RF",
          "year": "2147-01-01"
         },
         {
          "model": "RCP 8.5",
          "value": 1.0591485,
          "variable": "CH4_RF",
          "year": "2148-01-01"
         },
         {
          "model": "RCP 8.5",
          "value": 1.0581217,
          "variable": "CH4_RF",
          "year": "2149-01-01"
         },
         {
          "model": "RCP 8.5",
          "value": 1.0571148,
          "variable": "CH4_RF",
          "year": "2150-01-01"
         },
         {
          "model": "RCP 8.5",
          "value": 1.0561215,
          "variable": "CH4_RF",
          "year": "2151-01-01"
         },
         {
          "model": "RCP 8.5",
          "value": 1.055145,
          "variable": "CH4_RF",
          "year": "2152-01-01"
         },
         {
          "model": "RCP 8.5",
          "value": 1.0541481,
          "variable": "CH4_RF",
          "year": "2153-01-01"
         },
         {
          "model": "RCP 8.5",
          "value": 1.0530989,
          "variable": "CH4_RF",
          "year": "2154-01-01"
         },
         {
          "model": "RCP 8.5",
          "value": 1.0520269,
          "variable": "CH4_RF",
          "year": "2155-01-01"
         },
         {
          "model": "RCP 8.5",
          "value": 1.0509633,
          "variable": "CH4_RF",
          "year": "2156-01-01"
         },
         {
          "model": "RCP 8.5",
          "value": 1.0499341,
          "variable": "CH4_RF",
          "year": "2157-01-01"
         },
         {
          "model": "RCP 8.5",
          "value": 1.0489655,
          "variable": "CH4_RF",
          "year": "2158-01-01"
         },
         {
          "model": "RCP 8.5",
          "value": 1.048061,
          "variable": "CH4_RF",
          "year": "2159-01-01"
         },
         {
          "model": "RCP 8.5",
          "value": 1.0472036,
          "variable": "CH4_RF",
          "year": "2160-01-01"
         },
         {
          "model": "RCP 8.5",
          "value": 1.0463788,
          "variable": "CH4_RF",
          "year": "2161-01-01"
         },
         {
          "model": "RCP 8.5",
          "value": 1.0455795,
          "variable": "CH4_RF",
          "year": "2162-01-01"
         },
         {
          "model": "RCP 8.5",
          "value": 1.0448006,
          "variable": "CH4_RF",
          "year": "2163-01-01"
         },
         {
          "model": "RCP 8.5",
          "value": 1.0439972,
          "variable": "CH4_RF",
          "year": "2164-01-01"
         },
         {
          "model": "RCP 8.5",
          "value": 1.0431373,
          "variable": "CH4_RF",
          "year": "2165-01-01"
         },
         {
          "model": "RCP 8.5",
          "value": 1.0422505,
          "variable": "CH4_RF",
          "year": "2166-01-01"
         },
         {
          "model": "RCP 8.5",
          "value": 1.0413687,
          "variable": "CH4_RF",
          "year": "2167-01-01"
         },
         {
          "model": "RCP 8.5",
          "value": 1.0405185,
          "variable": "CH4_RF",
          "year": "2168-01-01"
         },
         {
          "model": "RCP 8.5",
          "value": 1.0397268,
          "variable": "CH4_RF",
          "year": "2169-01-01"
         },
         {
          "model": "RCP 8.5",
          "value": 1.0389972,
          "variable": "CH4_RF",
          "year": "2170-01-01"
         },
         {
          "model": "RCP 8.5",
          "value": 1.0383125,
          "variable": "CH4_RF",
          "year": "2171-01-01"
         },
         {
          "model": "RCP 8.5",
          "value": 1.0376583,
          "variable": "CH4_RF",
          "year": "2172-01-01"
         },
         {
          "model": "RCP 8.5",
          "value": 1.0370269,
          "variable": "CH4_RF",
          "year": "2173-01-01"
         },
         {
          "model": "RCP 8.5",
          "value": 1.0364133,
          "variable": "CH4_RF",
          "year": "2174-01-01"
         },
         {
          "model": "RCP 8.5",
          "value": 1.0357726,
          "variable": "CH4_RF",
          "year": "2175-01-01"
         },
         {
          "model": "RCP 8.5",
          "value": 1.0350725,
          "variable": "CH4_RF",
          "year": "2176-01-01"
         },
         {
          "model": "RCP 8.5",
          "value": 1.0343429,
          "variable": "CH4_RF",
          "year": "2177-01-01"
         },
         {
          "model": "RCP 8.5",
          "value": 1.033616,
          "variable": "CH4_RF",
          "year": "2178-01-01"
         },
         {
          "model": "RCP 8.5",
          "value": 1.0329189,
          "variable": "CH4_RF",
          "year": "2179-01-01"
         },
         {
          "model": "RCP 8.5",
          "value": 1.0322787,
          "variable": "CH4_RF",
          "year": "2180-01-01"
         },
         {
          "model": "RCP 8.5",
          "value": 1.0316991,
          "variable": "CH4_RF",
          "year": "2181-01-01"
         },
         {
          "model": "RCP 8.5",
          "value": 1.0311628,
          "variable": "CH4_RF",
          "year": "2182-01-01"
         },
         {
          "model": "RCP 8.5",
          "value": 1.030655,
          "variable": "CH4_RF",
          "year": "2183-01-01"
         },
         {
          "model": "RCP 8.5",
          "value": 1.030168,
          "variable": "CH4_RF",
          "year": "2184-01-01"
         },
         {
          "model": "RCP 8.5",
          "value": 1.0296966,
          "variable": "CH4_RF",
          "year": "2185-01-01"
         },
         {
          "model": "RCP 8.5",
          "value": 1.029196,
          "variable": "CH4_RF",
          "year": "2186-01-01"
         },
         {
          "model": "RCP 8.5",
          "value": 1.028634,
          "variable": "CH4_RF",
          "year": "2187-01-01"
         },
         {
          "model": "RCP 8.5",
          "value": 1.0280405,
          "variable": "CH4_RF",
          "year": "2188-01-01"
         },
         {
          "model": "RCP 8.5",
          "value": 1.027448,
          "variable": "CH4_RF",
          "year": "2189-01-01"
         },
         {
          "model": "RCP 8.5",
          "value": 1.026884,
          "variable": "CH4_RF",
          "year": "2190-01-01"
         },
         {
          "model": "RCP 8.5",
          "value": 1.0263755,
          "variable": "CH4_RF",
          "year": "2191-01-01"
         },
         {
          "model": "RCP 8.5",
          "value": 1.0259263,
          "variable": "CH4_RF",
          "year": "2192-01-01"
         },
         {
          "model": "RCP 8.5",
          "value": 1.0255189,
          "variable": "CH4_RF",
          "year": "2193-01-01"
         },
         {
          "model": "RCP 8.5",
          "value": 1.0251383,
          "variable": "CH4_RF",
          "year": "2194-01-01"
         },
         {
          "model": "RCP 8.5",
          "value": 1.0247768,
          "variable": "CH4_RF",
          "year": "2195-01-01"
         },
         {
          "model": "RCP 8.5",
          "value": 1.024429,
          "variable": "CH4_RF",
          "year": "2196-01-01"
         },
         {
          "model": "RCP 8.5",
          "value": 1.0240503,
          "variable": "CH4_RF",
          "year": "2197-01-01"
         },
         {
          "model": "RCP 8.5",
          "value": 1.0236086,
          "variable": "CH4_RF",
          "year": "2198-01-01"
         },
         {
          "model": "RCP 8.5",
          "value": 1.0231339,
          "variable": "CH4_RF",
          "year": "2199-01-01"
         },
         {
          "model": "RCP 8.5",
          "value": 1.0226589,
          "variable": "CH4_RF",
          "year": "2200-01-01"
         },
         {
          "model": "RCP 8.5",
          "value": 0.1450297,
          "variable": "N2O_RF",
          "year": "2001-01-01"
         },
         {
          "model": "RCP 8.5",
          "value": 0.14743728,
          "variable": "N2O_RF",
          "year": "2002-01-01"
         },
         {
          "model": "RCP 8.5",
          "value": 0.14988963,
          "variable": "N2O_RF",
          "year": "2003-01-01"
         },
         {
          "model": "RCP 8.5",
          "value": 0.15208552,
          "variable": "N2O_RF",
          "year": "2004-01-01"
         },
         {
          "model": "RCP 8.5",
          "value": 0.15439741,
          "variable": "N2O_RF",
          "year": "2005-01-01"
         },
         {
          "model": "RCP 8.5",
          "value": 0.15680074,
          "variable": "N2O_RF",
          "year": "2006-01-01"
         },
         {
          "model": "RCP 8.5",
          "value": 0.1589991,
          "variable": "N2O_RF",
          "year": "2007-01-01"
         },
         {
          "model": "RCP 8.5",
          "value": 0.16123626,
          "variable": "N2O_RF",
          "year": "2008-01-01"
         },
         {
          "model": "RCP 8.5",
          "value": 0.16351256,
          "variable": "N2O_RF",
          "year": "2009-01-01"
         },
         {
          "model": "RCP 8.5",
          "value": 0.16582697,
          "variable": "N2O_RF",
          "year": "2010-01-01"
         },
         {
          "model": "RCP 8.5",
          "value": 0.16817976,
          "variable": "N2O_RF",
          "year": "2011-01-01"
         },
         {
          "model": "RCP 8.5",
          "value": 0.17058666,
          "variable": "N2O_RF",
          "year": "2012-01-01"
         },
         {
          "model": "RCP 8.5",
          "value": 0.1730623,
          "variable": "N2O_RF",
          "year": "2013-01-01"
         },
         {
          "model": "RCP 8.5",
          "value": 0.17560604,
          "variable": "N2O_RF",
          "year": "2014-01-01"
         },
         {
          "model": "RCP 8.5",
          "value": 0.17821725,
          "variable": "N2O_RF",
          "year": "2015-01-01"
         },
         {
          "model": "RCP 8.5",
          "value": 0.18089524,
          "variable": "N2O_RF",
          "year": "2016-01-01"
         },
         {
          "model": "RCP 8.5",
          "value": 0.18363917,
          "variable": "N2O_RF",
          "year": "2017-01-01"
         },
         {
          "model": "RCP 8.5",
          "value": 0.18644815,
          "variable": "N2O_RF",
          "year": "2018-01-01"
         },
         {
          "model": "RCP 8.5",
          "value": 0.18932128,
          "variable": "N2O_RF",
          "year": "2019-01-01"
         },
         {
          "model": "RCP 8.5",
          "value": 0.19225766,
          "variable": "N2O_RF",
          "year": "2020-01-01"
         },
         {
          "model": "RCP 8.5",
          "value": 0.19525643,
          "variable": "N2O_RF",
          "year": "2021-01-01"
         },
         {
          "model": "RCP 8.5",
          "value": 0.19831092,
          "variable": "N2O_RF",
          "year": "2022-01-01"
         },
         {
          "model": "RCP 8.5",
          "value": 0.20141455,
          "variable": "N2O_RF",
          "year": "2023-01-01"
         },
         {
          "model": "RCP 8.5",
          "value": 0.2045665,
          "variable": "N2O_RF",
          "year": "2024-01-01"
         },
         {
          "model": "RCP 8.5",
          "value": 0.20776597,
          "variable": "N2O_RF",
          "year": "2025-01-01"
         },
         {
          "model": "RCP 8.5",
          "value": 0.21101216,
          "variable": "N2O_RF",
          "year": "2026-01-01"
         },
         {
          "model": "RCP 8.5",
          "value": 0.21430437,
          "variable": "N2O_RF",
          "year": "2027-01-01"
         },
         {
          "model": "RCP 8.5",
          "value": 0.21764189,
          "variable": "N2O_RF",
          "year": "2028-01-01"
         },
         {
          "model": "RCP 8.5",
          "value": 0.22102405,
          "variable": "N2O_RF",
          "year": "2029-01-01"
         },
         {
          "model": "RCP 8.5",
          "value": 0.22445017,
          "variable": "N2O_RF",
          "year": "2030-01-01"
         },
         {
          "model": "RCP 8.5",
          "value": 0.22791957,
          "variable": "N2O_RF",
          "year": "2031-01-01"
         },
         {
          "model": "RCP 8.5",
          "value": 0.23143238,
          "variable": "N2O_RF",
          "year": "2032-01-01"
         },
         {
          "model": "RCP 8.5",
          "value": 0.23498875,
          "variable": "N2O_RF",
          "year": "2033-01-01"
         },
         {
          "model": "RCP 8.5",
          "value": 0.23858802,
          "variable": "N2O_RF",
          "year": "2034-01-01"
         },
         {
          "model": "RCP 8.5",
          "value": 0.24222951,
          "variable": "N2O_RF",
          "year": "2035-01-01"
         },
         {
          "model": "RCP 8.5",
          "value": 0.24591259,
          "variable": "N2O_RF",
          "year": "2036-01-01"
         },
         {
          "model": "RCP 8.5",
          "value": 0.24963658,
          "variable": "N2O_RF",
          "year": "2037-01-01"
         },
         {
          "model": "RCP 8.5",
          "value": 0.25340083,
          "variable": "N2O_RF",
          "year": "2038-01-01"
         },
         {
          "model": "RCP 8.5",
          "value": 0.25720469,
          "variable": "N2O_RF",
          "year": "2039-01-01"
         },
         {
          "model": "RCP 8.5",
          "value": 0.26104753,
          "variable": "N2O_RF",
          "year": "2040-01-01"
         },
         {
          "model": "RCP 8.5",
          "value": 0.2649287,
          "variable": "N2O_RF",
          "year": "2041-01-01"
         },
         {
          "model": "RCP 8.5",
          "value": 0.26883262,
          "variable": "N2O_RF",
          "year": "2042-01-01"
         },
         {
          "model": "RCP 8.5",
          "value": 0.27274379,
          "variable": "N2O_RF",
          "year": "2043-01-01"
         },
         {
          "model": "RCP 8.5",
          "value": 0.27666177,
          "variable": "N2O_RF",
          "year": "2044-01-01"
         },
         {
          "model": "RCP 8.5",
          "value": 0.28058613,
          "variable": "N2O_RF",
          "year": "2045-01-01"
         },
         {
          "model": "RCP 8.5",
          "value": 0.28451651,
          "variable": "N2O_RF",
          "year": "2046-01-01"
         },
         {
          "model": "RCP 8.5",
          "value": 0.28845268,
          "variable": "N2O_RF",
          "year": "2047-01-01"
         },
         {
          "model": "RCP 8.5",
          "value": 0.29239448,
          "variable": "N2O_RF",
          "year": "2048-01-01"
         },
         {
          "model": "RCP 8.5",
          "value": 0.29634174,
          "variable": "N2O_RF",
          "year": "2049-01-01"
         },
         {
          "model": "RCP 8.5",
          "value": 0.30029432,
          "variable": "N2O_RF",
          "year": "2050-01-01"
         },
         {
          "model": "RCP 8.5",
          "value": 0.30425205,
          "variable": "N2O_RF",
          "year": "2051-01-01"
         },
         {
          "model": "RCP 8.5",
          "value": 0.30821047,
          "variable": "N2O_RF",
          "year": "2052-01-01"
         },
         {
          "model": "RCP 8.5",
          "value": 0.3121651,
          "variable": "N2O_RF",
          "year": "2053-01-01"
         },
         {
          "model": "RCP 8.5",
          "value": 0.31611587,
          "variable": "N2O_RF",
          "year": "2054-01-01"
         },
         {
          "model": "RCP 8.5",
          "value": 0.32006266,
          "variable": "N2O_RF",
          "year": "2055-01-01"
         },
         {
          "model": "RCP 8.5",
          "value": 0.32400542,
          "variable": "N2O_RF",
          "year": "2056-01-01"
         },
         {
          "model": "RCP 8.5",
          "value": 0.32794412,
          "variable": "N2O_RF",
          "year": "2057-01-01"
         },
         {
          "model": "RCP 8.5",
          "value": 0.33187872,
          "variable": "N2O_RF",
          "year": "2058-01-01"
         },
         {
          "model": "RCP 8.5",
          "value": 0.33580923,
          "variable": "N2O_RF",
          "year": "2059-01-01"
         },
         {
          "model": "RCP 8.5",
          "value": 0.33973563,
          "variable": "N2O_RF",
          "year": "2060-01-01"
         },
         {
          "model": "RCP 8.5",
          "value": 0.34365791,
          "variable": "N2O_RF",
          "year": "2061-01-01"
         },
         {
          "model": "RCP 8.5",
          "value": 0.34757284,
          "variable": "N2O_RF",
          "year": "2062-01-01"
         },
         {
          "model": "RCP 8.5",
          "value": 0.35147724,
          "variable": "N2O_RF",
          "year": "2063-01-01"
         },
         {
          "model": "RCP 8.5",
          "value": 0.35537111,
          "variable": "N2O_RF",
          "year": "2064-01-01"
         },
         {
          "model": "RCP 8.5",
          "value": 0.35925449,
          "variable": "N2O_RF",
          "year": "2065-01-01"
         },
         {
          "model": "RCP 8.5",
          "value": 0.36312743,
          "variable": "N2O_RF",
          "year": "2066-01-01"
         },
         {
          "model": "RCP 8.5",
          "value": 0.36698997,
          "variable": "N2O_RF",
          "year": "2067-01-01"
         },
         {
          "model": "RCP 8.5",
          "value": 0.37084222,
          "variable": "N2O_RF",
          "year": "2068-01-01"
         },
         {
          "model": "RCP 8.5",
          "value": 0.37468424,
          "variable": "N2O_RF",
          "year": "2069-01-01"
         },
         {
          "model": "RCP 8.5",
          "value": 0.37851611,
          "variable": "N2O_RF",
          "year": "2070-01-01"
         },
         {
          "model": "RCP 8.5",
          "value": 0.38233791,
          "variable": "N2O_RF",
          "year": "2071-01-01"
         },
         {
          "model": "RCP 8.5",
          "value": 0.38615266,
          "variable": "N2O_RF",
          "year": "2072-01-01"
         },
         {
          "model": "RCP 8.5",
          "value": 0.38996335,
          "variable": "N2O_RF",
          "year": "2073-01-01"
         },
         {
          "model": "RCP 8.5",
          "value": 0.39377004,
          "variable": "N2O_RF",
          "year": "2074-01-01"
         },
         {
          "model": "RCP 8.5",
          "value": 0.39757275,
          "variable": "N2O_RF",
          "year": "2075-01-01"
         },
         {
          "model": "RCP 8.5",
          "value": 0.40137153,
          "variable": "N2O_RF",
          "year": "2076-01-01"
         },
         {
          "model": "RCP 8.5",
          "value": 0.40516637,
          "variable": "N2O_RF",
          "year": "2077-01-01"
         },
         {
          "model": "RCP 8.5",
          "value": 0.40895727,
          "variable": "N2O_RF",
          "year": "2078-01-01"
         },
         {
          "model": "RCP 8.5",
          "value": 0.41274422,
          "variable": "N2O_RF",
          "year": "2079-01-01"
         },
         {
          "model": "RCP 8.5",
          "value": 0.41652721,
          "variable": "N2O_RF",
          "year": "2080-01-01"
         },
         {
          "model": "RCP 8.5",
          "value": 0.42030624,
          "variable": "N2O_RF",
          "year": "2081-01-01"
         },
         {
          "model": "RCP 8.5",
          "value": 0.42408464,
          "variable": "N2O_RF",
          "year": "2082-01-01"
         },
         {
          "model": "RCP 8.5",
          "value": 0.42786575,
          "variable": "N2O_RF",
          "year": "2083-01-01"
         },
         {
          "model": "RCP 8.5",
          "value": 0.4316495,
          "variable": "N2O_RF",
          "year": "2084-01-01"
         },
         {
          "model": "RCP 8.5",
          "value": 0.43543588,
          "variable": "N2O_RF",
          "year": "2085-01-01"
         },
         {
          "model": "RCP 8.5",
          "value": 0.43922481,
          "variable": "N2O_RF",
          "year": "2086-01-01"
         },
         {
          "model": "RCP 8.5",
          "value": 0.44301621,
          "variable": "N2O_RF",
          "year": "2087-01-01"
         },
         {
          "model": "RCP 8.5",
          "value": 0.44680999,
          "variable": "N2O_RF",
          "year": "2088-01-01"
         },
         {
          "model": "RCP 8.5",
          "value": 0.45060604,
          "variable": "N2O_RF",
          "year": "2089-01-01"
         },
         {
          "model": "RCP 8.5",
          "value": 0.45440429,
          "variable": "N2O_RF",
          "year": "2090-01-01"
         },
         {
          "model": "RCP 8.5",
          "value": 0.45820462,
          "variable": "N2O_RF",
          "year": "2091-01-01"
         },
         {
          "model": "RCP 8.5",
          "value": 0.46199979,
          "variable": "N2O_RF",
          "year": "2092-01-01"
         },
         {
          "model": "RCP 8.5",
          "value": 0.46578261,
          "variable": "N2O_RF",
          "year": "2093-01-01"
         },
         {
          "model": "RCP 8.5",
          "value": 0.46955305,
          "variable": "N2O_RF",
          "year": "2094-01-01"
         },
         {
          "model": "RCP 8.5",
          "value": 0.4733111,
          "variable": "N2O_RF",
          "year": "2095-01-01"
         },
         {
          "model": "RCP 8.5",
          "value": 0.47705678,
          "variable": "N2O_RF",
          "year": "2096-01-01"
         },
         {
          "model": "RCP 8.5",
          "value": 0.48079017,
          "variable": "N2O_RF",
          "year": "2097-01-01"
         },
         {
          "model": "RCP 8.5",
          "value": 0.48451138,
          "variable": "N2O_RF",
          "year": "2098-01-01"
         },
         {
          "model": "RCP 8.5",
          "value": 0.4882205,
          "variable": "N2O_RF",
          "year": "2099-01-01"
         },
         {
          "model": "RCP 8.5",
          "value": 0.49191766,
          "variable": "N2O_RF",
          "year": "2100-01-01"
         },
         {
          "model": "RCP 8.5",
          "value": 0.49560296,
          "variable": "N2O_RF",
          "year": "2101-01-01"
         },
         {
          "model": "RCP 8.5",
          "value": 0.49926297,
          "variable": "N2O_RF",
          "year": "2102-01-01"
         },
         {
          "model": "RCP 8.5",
          "value": 0.50288434,
          "variable": "N2O_RF",
          "year": "2103-01-01"
         },
         {
          "model": "RCP 8.5",
          "value": 0.50646731,
          "variable": "N2O_RF",
          "year": "2104-01-01"
         },
         {
          "model": "RCP 8.5",
          "value": 0.51001211,
          "variable": "N2O_RF",
          "year": "2105-01-01"
         },
         {
          "model": "RCP 8.5",
          "value": 0.51351904,
          "variable": "N2O_RF",
          "year": "2106-01-01"
         },
         {
          "model": "RCP 8.5",
          "value": 0.51698848,
          "variable": "N2O_RF",
          "year": "2107-01-01"
         },
         {
          "model": "RCP 8.5",
          "value": 0.5204209,
          "variable": "N2O_RF",
          "year": "2108-01-01"
         },
         {
          "model": "RCP 8.5",
          "value": 0.52381674,
          "variable": "N2O_RF",
          "year": "2109-01-01"
         },
         {
          "model": "RCP 8.5",
          "value": 0.52717645,
          "variable": "N2O_RF",
          "year": "2110-01-01"
         },
         {
          "model": "RCP 8.5",
          "value": 0.53050045,
          "variable": "N2O_RF",
          "year": "2111-01-01"
         },
         {
          "model": "RCP 8.5",
          "value": 0.53378919,
          "variable": "N2O_RF",
          "year": "2112-01-01"
         },
         {
          "model": "RCP 8.5",
          "value": 0.53704308,
          "variable": "N2O_RF",
          "year": "2113-01-01"
         },
         {
          "model": "RCP 8.5",
          "value": 0.54026255,
          "variable": "N2O_RF",
          "year": "2114-01-01"
         },
         {
          "model": "RCP 8.5",
          "value": 0.543448,
          "variable": "N2O_RF",
          "year": "2115-01-01"
         },
         {
          "model": "RCP 8.5",
          "value": 0.54659984,
          "variable": "N2O_RF",
          "year": "2116-01-01"
         },
         {
          "model": "RCP 8.5",
          "value": 0.54971848,
          "variable": "N2O_RF",
          "year": "2117-01-01"
         },
         {
          "model": "RCP 8.5",
          "value": 0.5528043,
          "variable": "N2O_RF",
          "year": "2118-01-01"
         },
         {
          "model": "RCP 8.5",
          "value": 0.55585769,
          "variable": "N2O_RF",
          "year": "2119-01-01"
         },
         {
          "model": "RCP 8.5",
          "value": 0.55887903,
          "variable": "N2O_RF",
          "year": "2120-01-01"
         },
         {
          "model": "RCP 8.5",
          "value": 0.56186871,
          "variable": "N2O_RF",
          "year": "2121-01-01"
         },
         {
          "model": "RCP 8.5",
          "value": 0.56482709,
          "variable": "N2O_RF",
          "year": "2122-01-01"
         },
         {
          "model": "RCP 8.5",
          "value": 0.56775454,
          "variable": "N2O_RF",
          "year": "2123-01-01"
         },
         {
          "model": "RCP 8.5",
          "value": 0.57065143,
          "variable": "N2O_RF",
          "year": "2124-01-01"
         },
         {
          "model": "RCP 8.5",
          "value": 0.5735181,
          "variable": "N2O_RF",
          "year": "2125-01-01"
         },
         {
          "model": "RCP 8.5",
          "value": 0.57635491,
          "variable": "N2O_RF",
          "year": "2126-01-01"
         },
         {
          "model": "RCP 8.5",
          "value": 0.57916221,
          "variable": "N2O_RF",
          "year": "2127-01-01"
         },
         {
          "model": "RCP 8.5",
          "value": 0.58194033,
          "variable": "N2O_RF",
          "year": "2128-01-01"
         },
         {
          "model": "RCP 8.5",
          "value": 0.58468962,
          "variable": "N2O_RF",
          "year": "2129-01-01"
         },
         {
          "model": "RCP 8.5",
          "value": 0.58741041,
          "variable": "N2O_RF",
          "year": "2130-01-01"
         },
         {
          "model": "RCP 8.5",
          "value": 0.59010301,
          "variable": "N2O_RF",
          "year": "2131-01-01"
         },
         {
          "model": "RCP 8.5",
          "value": 0.59276776,
          "variable": "N2O_RF",
          "year": "2132-01-01"
         },
         {
          "model": "RCP 8.5",
          "value": 0.59540498,
          "variable": "N2O_RF",
          "year": "2133-01-01"
         },
         {
          "model": "RCP 8.5",
          "value": 0.59801497,
          "variable": "N2O_RF",
          "year": "2134-01-01"
         },
         {
          "model": "RCP 8.5",
          "value": 0.60059806,
          "variable": "N2O_RF",
          "year": "2135-01-01"
         },
         {
          "model": "RCP 8.5",
          "value": 0.60315454,
          "variable": "N2O_RF",
          "year": "2136-01-01"
         },
         {
          "model": "RCP 8.5",
          "value": 0.60568471,
          "variable": "N2O_RF",
          "year": "2137-01-01"
         },
         {
          "model": "RCP 8.5",
          "value": 0.60818888,
          "variable": "N2O_RF",
          "year": "2138-01-01"
         },
         {
          "model": "RCP 8.5",
          "value": 0.61066733,
          "variable": "N2O_RF",
          "year": "2139-01-01"
         },
         {
          "model": "RCP 8.5",
          "value": 0.61312037,
          "variable": "N2O_RF",
          "year": "2140-01-01"
         },
         {
          "model": "RCP 8.5",
          "value": 0.61554826,
          "variable": "N2O_RF",
          "year": "2141-01-01"
         },
         {
          "model": "RCP 8.5",
          "value": 0.6179513,
          "variable": "N2O_RF",
          "year": "2142-01-01"
         },
         {
          "model": "RCP 8.5",
          "value": 0.62032977,
          "variable": "N2O_RF",
          "year": "2143-01-01"
         },
         {
          "model": "RCP 8.5",
          "value": 0.62268393,
          "variable": "N2O_RF",
          "year": "2144-01-01"
         },
         {
          "model": "RCP 8.5",
          "value": 0.62501406,
          "variable": "N2O_RF",
          "year": "2145-01-01"
         },
         {
          "model": "RCP 8.5",
          "value": 0.62732043,
          "variable": "N2O_RF",
          "year": "2146-01-01"
         },
         {
          "model": "RCP 8.5",
          "value": 0.62960329,
          "variable": "N2O_RF",
          "year": "2147-01-01"
         },
         {
          "model": "RCP 8.5",
          "value": 0.63186293,
          "variable": "N2O_RF",
          "year": "2148-01-01"
         },
         {
          "model": "RCP 8.5",
          "value": 0.63409958,
          "variable": "N2O_RF",
          "year": "2149-01-01"
         },
         {
          "model": "RCP 8.5",
          "value": 0.6363135,
          "variable": "N2O_RF",
          "year": "2150-01-01"
         },
         {
          "model": "RCP 8.5",
          "value": 0.63850495,
          "variable": "N2O_RF",
          "year": "2151-01-01"
         },
         {
          "model": "RCP 8.5",
          "value": 0.64066759,
          "variable": "N2O_RF",
          "year": "2152-01-01"
         },
         {
          "model": "RCP 8.5",
          "value": 0.64279513,
          "variable": "N2O_RF",
          "year": "2153-01-01"
         },
         {
          "model": "RCP 8.5",
          "value": 0.64488783,
          "variable": "N2O_RF",
          "year": "2154-01-01"
         },
         {
          "model": "RCP 8.5",
          "value": 0.64694598,
          "variable": "N2O_RF",
          "year": "2155-01-01"
         },
         {
          "model": "RCP 8.5",
          "value": 0.64896988,
          "variable": "N2O_RF",
          "year": "2156-01-01"
         },
         {
          "model": "RCP 8.5",
          "value": 0.65095987,
          "variable": "N2O_RF",
          "year": "2157-01-01"
         },
         {
          "model": "RCP 8.5",
          "value": 0.65291634,
          "variable": "N2O_RF",
          "year": "2158-01-01"
         },
         {
          "model": "RCP 8.5",
          "value": 0.65483966,
          "variable": "N2O_RF",
          "year": "2159-01-01"
         },
         {
          "model": "RCP 8.5",
          "value": 0.65673019,
          "variable": "N2O_RF",
          "year": "2160-01-01"
         },
         {
          "model": "RCP 8.5",
          "value": 0.65858829,
          "variable": "N2O_RF",
          "year": "2161-01-01"
         },
         {
          "model": "RCP 8.5",
          "value": 0.66041433,
          "variable": "N2O_RF",
          "year": "2162-01-01"
         },
         {
          "model": "RCP 8.5",
          "value": 0.66220866,
          "variable": "N2O_RF",
          "year": "2163-01-01"
         },
         {
          "model": "RCP 8.5",
          "value": 0.66397163,
          "variable": "N2O_RF",
          "year": "2164-01-01"
         },
         {
          "model": "RCP 8.5",
          "value": 0.66570358,
          "variable": "N2O_RF",
          "year": "2165-01-01"
         },
         {
          "model": "RCP 8.5",
          "value": 0.66740485,
          "variable": "N2O_RF",
          "year": "2166-01-01"
         },
         {
          "model": "RCP 8.5",
          "value": 0.66907577,
          "variable": "N2O_RF",
          "year": "2167-01-01"
         },
         {
          "model": "RCP 8.5",
          "value": 0.67071668,
          "variable": "N2O_RF",
          "year": "2168-01-01"
         },
         {
          "model": "RCP 8.5",
          "value": 0.6723279,
          "variable": "N2O_RF",
          "year": "2169-01-01"
         },
         {
          "model": "RCP 8.5",
          "value": 0.67390975,
          "variable": "N2O_RF",
          "year": "2170-01-01"
         },
         {
          "model": "RCP 8.5",
          "value": 0.67546256,
          "variable": "N2O_RF",
          "year": "2171-01-01"
         },
         {
          "model": "RCP 8.5",
          "value": 0.67698663,
          "variable": "N2O_RF",
          "year": "2172-01-01"
         },
         {
          "model": "RCP 8.5",
          "value": 0.67848227,
          "variable": "N2O_RF",
          "year": "2173-01-01"
         },
         {
          "model": "RCP 8.5",
          "value": 0.67994978,
          "variable": "N2O_RF",
          "year": "2174-01-01"
         },
         {
          "model": "RCP 8.5",
          "value": 0.68138948,
          "variable": "N2O_RF",
          "year": "2175-01-01"
         },
         {
          "model": "RCP 8.5",
          "value": 0.68280166,
          "variable": "N2O_RF",
          "year": "2176-01-01"
         },
         {
          "model": "RCP 8.5",
          "value": 0.6841866,
          "variable": "N2O_RF",
          "year": "2177-01-01"
         },
         {
          "model": "RCP 8.5",
          "value": 0.6855446,
          "variable": "N2O_RF",
          "year": "2178-01-01"
         },
         {
          "model": "RCP 8.5",
          "value": 0.68687594,
          "variable": "N2O_RF",
          "year": "2179-01-01"
         },
         {
          "model": "RCP 8.5",
          "value": 0.68818092,
          "variable": "N2O_RF",
          "year": "2180-01-01"
         },
         {
          "model": "RCP 8.5",
          "value": 0.6894598,
          "variable": "N2O_RF",
          "year": "2181-01-01"
         },
         {
          "model": "RCP 8.5",
          "value": 0.69071285,
          "variable": "N2O_RF",
          "year": "2182-01-01"
         },
         {
          "model": "RCP 8.5",
          "value": 0.69194036,
          "variable": "N2O_RF",
          "year": "2183-01-01"
         },
         {
          "model": "RCP 8.5",
          "value": 0.69314259,
          "variable": "N2O_RF",
          "year": "2184-01-01"
         },
         {
          "model": "RCP 8.5",
          "value": 0.69431981,
          "variable": "N2O_RF",
          "year": "2185-01-01"
         },
         {
          "model": "RCP 8.5",
          "value": 0.69547227,
          "variable": "N2O_RF",
          "year": "2186-01-01"
         },
         {
          "model": "RCP 8.5",
          "value": 0.69660023,
          "variable": "N2O_RF",
          "year": "2187-01-01"
         },
         {
          "model": "RCP 8.5",
          "value": 0.69770396,
          "variable": "N2O_RF",
          "year": "2188-01-01"
         },
         {
          "model": "RCP 8.5",
          "value": 0.69878369,
          "variable": "N2O_RF",
          "year": "2189-01-01"
         },
         {
          "model": "RCP 8.5",
          "value": 0.69983969,
          "variable": "N2O_RF",
          "year": "2190-01-01"
         },
         {
          "model": "RCP 8.5",
          "value": 0.70087219,
          "variable": "N2O_RF",
          "year": "2191-01-01"
         },
         {
          "model": "RCP 8.5",
          "value": 0.70188143,
          "variable": "N2O_RF",
          "year": "2192-01-01"
         },
         {
          "model": "RCP 8.5",
          "value": 0.70286766,
          "variable": "N2O_RF",
          "year": "2193-01-01"
         },
         {
          "model": "RCP 8.5",
          "value": 0.70383112,
          "variable": "N2O_RF",
          "year": "2194-01-01"
         },
         {
          "model": "RCP 8.5",
          "value": 0.70477203,
          "variable": "N2O_RF",
          "year": "2195-01-01"
         },
         {
          "model": "RCP 8.5",
          "value": 0.70569063,
          "variable": "N2O_RF",
          "year": "2196-01-01"
         },
         {
          "model": "RCP 8.5",
          "value": 0.70658715,
          "variable": "N2O_RF",
          "year": "2197-01-01"
         },
         {
          "model": "RCP 8.5",
          "value": 0.7074618,
          "variable": "N2O_RF",
          "year": "2198-01-01"
         },
         {
          "model": "RCP 8.5",
          "value": 0.70831482,
          "variable": "N2O_RF",
          "year": "2199-01-01"
         },
         {
          "model": "RCP 8.5",
          "value": 0.70914643,
          "variable": "N2O_RF",
          "year": "2200-01-01"
         },
         {
          "model": "PAGE-ICE",
          "value": 1.9236241750567098,
          "variable": "CO2_RF",
          "year": "2020-01-01"
         },
         {
          "model": "PAGE-ICE",
          "value": 2.4258955498734585,
          "variable": "CO2_RF",
          "year": "2030-01-01"
         },
         {
          "model": "PAGE-ICE",
          "value": 2.9546903298817275,
          "variable": "CO2_RF",
          "year": "2040-01-01"
         },
         {
          "model": "PAGE-ICE",
          "value": 3.52378797992338,
          "variable": "CO2_RF",
          "year": "2050-01-01"
         },
         {
          "model": "PAGE-ICE",
          "value": 4.937993736232628,
          "variable": "CO2_RF",
          "year": "2075-01-01"
         },
         {
          "model": "PAGE-ICE",
          "value": 6.151706917682076,
          "variable": "CO2_RF",
          "year": "2100-01-01"
         },
         {
          "model": "PAGE-ICE",
          "value": 7.839250582466324,
          "variable": "CO2_RF",
          "year": "2150-01-01"
         },
         {
          "model": "PAGE-ICE",
          "value": 8.999113238040874,
          "variable": "CO2_RF",
          "year": "2200-01-01"
         },
         {
          "model": "PAGE-ICE",
          "value": 0.5433060341590741,
          "variable": "CH4_RF",
          "year": "2020-01-01"
         },
         {
          "model": "PAGE-ICE",
          "value": 0.6577725085289332,
          "variable": "CH4_RF",
          "year": "2030-01-01"
         },
         {
          "model": "PAGE-ICE",
          "value": 0.7563272901220668,
          "variable": "CH4_RF",
          "year": "2040-01-01"
         },
         {
          "model": "PAGE-ICE",
          "value": 0.8546112239533945,
          "variable": "CH4_RF",
          "year": "2050-01-01"
         },
         {
          "model": "PAGE-ICE",
          "value": 1.0159232967922516,
          "variable": "CH4_RF",
          "year": "2075-01-01"
         },
         {
          "model": "PAGE-ICE",
          "value": 1.131997353487848,
          "variable": "CH4_RF",
          "year": "2100-01-01"
         },
         {
          "model": "PAGE-ICE",
          "value": 1.2060707200849563,
          "variable": "CH4_RF",
          "year": "2150-01-01"
         },
         {
          "model": "PAGE-ICE",
          "value": 1.1990943469073188,
          "variable": "CH4_RF",
          "year": "2200-01-01"
         },
         {
          "model": "PAGE-ICE",
          "value": 0.18591945511928826,
          "variable": "N2O_RF",
          "year": "2020-01-01"
         },
         {
          "model": "PAGE-ICE",
          "value": 0.22189017970399022,
          "variable": "N2O_RF",
          "year": "2030-01-01"
         },
         {
          "model": "PAGE-ICE",
          "value": 0.26032096683484196,
          "variable": "N2O_RF",
          "year": "2040-01-01"
         },
         {
          "model": "PAGE-ICE",
          "value": 0.29973300909203926,
          "variable": "N2O_RF",
          "year": "2050-01-01"
         },
         {
          "model": "PAGE-ICE",
          "value": 0.39393176733489765,
          "variable": "N2O_RF",
          "year": "2075-01-01"
         },
         {
          "model": "PAGE-ICE",
          "value": 0.4814754946020058,
          "variable": "N2O_RF",
          "year": "2100-01-01"
         },
         {
          "model": "PAGE-ICE",
          "value": 0.6147965558886748,
          "variable": "N2O_RF",
          "year": "2150-01-01"
         },
         {
          "model": "PAGE-ICE",
          "value": 0.6969706740100174,
          "variable": "N2O_RF",
          "year": "2200-01-01"
         }
        ]
       },
       "encoding": {
        "color": {
         "field": "model",
         "legend": {
          "title": "Source"
         },
         "type": "nominal"
        },
        "column": {
         "field": "variable",
         "title": "",
         "type": "nominal"
        },
        "x": {
         "field": "year",
         "timeUnit": "year",
         "title": "year",
         "type": "temporal"
        },
        "y": {
         "field": "value",
         "title": "W/m²",
         "type": "quantitative"
        }
       },
       "height": 250,
       "mark": "line",
       "resolve": {
        "scale": {
         "y": "independent"
        }
       },
       "width": 350
      },
      "image/png": "[encoded data removed]",
      "image/svg+xml": [
       "<svg class=\"marks\" width=\"1302\" height=\"324\" viewBox=\"0 0 1302 324\" version=\"1.1\" xmlns=\"http://www.w3.org/2000/svg\" xmlns:xlink=\"http://www.w3.org/1999/xlink\"><g transform=\"translate(42,31)\"><g class=\"mark-group role-frame root\"><g transform=\"translate(0,0)\"><path class=\"background\" d=\"M0,0h0v0h0Z\" style=\"fill: none;\"></path><g><g class=\"mark-group role-column-header column_header\"><g transform=\"translate(0,-6)\"><path class=\"background\" d=\"M0,0h350v0h-350Z\" style=\"fill: none;\"></path><g><g class=\"mark-group role-title\"><g transform=\"translate(175,-20)\"><path class=\"background\" d=\"M0,0h0v0h0Z\" style=\"pointer-events: none; fill: none;\"></path><g><g class=\"mark-text role-title-text\" style=\"pointer-events: none;\"><text text-anchor=\"middle\" transform=\"translate(0,8)\" style=\"font-family: sans-serif; font-size: 10px; fill: #000; opacity: 1;\">CH4_RF</text></g></g></g></g></g></g><g transform=\"translate(410,-6)\"><path class=\"background\" d=\"M0,0h350v0h-350Z\" style=\"fill: none;\"></path><g><g class=\"mark-group role-title\"><g transform=\"translate(175,-20)\"><path class=\"background\" d=\"M0,0h0v0h0Z\" style=\"pointer-events: none; fill: none;\"></path><g><g class=\"mark-text role-title-text\" style=\"pointer-events: none;\"><text text-anchor=\"middle\" transform=\"translate(0,8)\" style=\"font-family: sans-serif; font-size: 10px; fill: #000; opacity: 1;\">CO2_RF</text></g></g></g></g></g></g><g transform=\"translate(820,-6)\"><path class=\"background\" d=\"M0,0h350v0h-350Z\" style=\"fill: none;\"></path><g><g class=\"mark-group role-title\"><g transform=\"translate(175,-20)\"><path class=\"background\" d=\"M0,0h0v0h0Z\" style=\"pointer-events: none; fill: none;\"></path><g><g class=\"mark-text role-title-text\" style=\"pointer-events: none;\"><text text-anchor=\"middle\" transform=\"translate(0,8)\" style=\"font-family: sans-serif; font-size: 10px; fill: #000; opacity: 1;\">N2O_RF</text></g></g></g></g></g></g></g><g class=\"mark-group role-column-footer column_footer\"><g transform=\"translate(0,256)\"><path class=\"background\" d=\"M0,0h350v0h-350Z\" style=\"fill: none;\"></path><g><g class=\"mark-group role-axis\"><g transform=\"translate(0.5,0.5)\"><path class=\"background\" d=\"M0,0h0v0h0Z\" style=\"pointer-events: none; fill: none;\"></path><g><g class=\"mark-rule role-axis-tick\" style=\"pointer-events: none;\"><line transform=\"translate(33,0)\" x2=\"0\" y2=\"5\" style=\"fill: none; stroke: #888; stroke-width: 1; opacity: 1;\"></line><line transform=\"translate(69,0)\" x2=\"0\" y2=\"5\" style=\"fill: none; stroke: #888; stroke-width: 1; opacity: 1;\"></line><line transform=\"translate(104,0)\" x2=\"0\" y2=\"5\" style=\"fill: none; stroke: #888; stroke-width: 1; opacity: 1;\"></line><line transform=\"translate(139,0)\" x2=\"0\" y2=\"5\" style=\"fill: none; stroke: #888; stroke-width: 1; opacity: 1;\"></line><line transform=\"translate(174,0)\" x2=\"0\" y2=\"5\" style=\"fill: none; stroke: #888; stroke-width: 1; opacity: 1;\"></line><line transform=\"translate(209,0)\" x2=\"0\" y2=\"5\" style=\"fill: none; stroke: #888; stroke-width: 1; opacity: 1;\"></line><line transform=\"translate(244,0)\" x2=\"0\" y2=\"5\" style=\"fill: none; stroke: #888; stroke-width: 1; opacity: 1;\"></line><line transform=\"translate(280,0)\" x2=\"0\" y2=\"5\" style=\"fill: none; stroke: #888; stroke-width: 1; opacity: 1;\"></line><line transform=\"translate(315,0)\" x2=\"0\" y2=\"5\" style=\"fill: none; stroke: #888; stroke-width: 1; opacity: 1;\"></line><line transform=\"translate(350,0)\" x2=\"0\" y2=\"5\" style=\"fill: none; stroke: #888; stroke-width: 1; opacity: 1;\"></line></g><g class=\"mark-text role-axis-label\" style=\"pointer-events: none;\"><text text-anchor=\"middle\" transform=\"translate(33.41427844200157,15)\" style=\"font-family: sans-serif; font-size: 10px; fill: #000; opacity: 1;\">2020</text><text text-anchor=\"middle\" transform=\"translate(68.59100477415627,15)\" style=\"font-family: sans-serif; font-size: 10px; fill: #000; opacity: 1;\">2040</text><text text-anchor=\"middle\" transform=\"translate(103.76773110631096,15)\" style=\"font-family: sans-serif; font-size: 10px; fill: #000; opacity: 1;\">2060</text><text text-anchor=\"middle\" transform=\"translate(138.94445743846566,15)\" style=\"font-family: sans-serif; font-size: 10px; fill: #000; opacity: 1;\">2080</text><text text-anchor=\"middle\" transform=\"translate(174.12118377062035,15)\" style=\"font-family: sans-serif; font-size: 10px; fill: #000; opacity: 1;\">2100</text><text text-anchor=\"middle\" transform=\"translate(209.29309467138123,15)\" style=\"font-family: sans-serif; font-size: 10px; fill: #000; opacity: 1;\">2120</text><text text-anchor=\"middle\" transform=\"translate(244.4698210035359,15)\" style=\"font-family: sans-serif; font-size: 10px; fill: #000; opacity: 1;\">2140</text><text text-anchor=\"middle\" transform=\"translate(279.6465473356906,15)\" style=\"font-family: sans-serif; font-size: 10px; fill: #000; opacity: 1;\">2160</text><text text-anchor=\"middle\" transform=\"translate(314.8232736678453,15)\" style=\"font-family: sans-serif; font-size: 10px; fill: #000; opacity: 1;\">2180</text><text text-anchor=\"end\" transform=\"translate(350,15)\" style=\"font-family: sans-serif; font-size: 10px; fill: #000; opacity: 1;\">2200</text></g><g class=\"mark-rule role-axis-domain\" style=\"pointer-events: none;\"><line transform=\"translate(0,0)\" x2=\"350\" y2=\"0\" style=\"fill: none; stroke: #888; stroke-width: 1; opacity: 1;\"></line></g><g class=\"mark-text role-axis-title\" style=\"pointer-events: none;\"><text text-anchor=\"middle\" transform=\"translate(175,30)\" style=\"font-family: sans-serif; font-size: 11px; font-weight: bold; fill: #000; opacity: 1;\">year</text></g></g></g></g></g></g><g transform=\"translate(410,256)\"><path class=\"background\" d=\"M0,0h350v0h-350Z\" style=\"fill: none;\"></path><g><g class=\"mark-group role-axis\"><g transform=\"translate(0.5,0.5)\"><path class=\"background\" d=\"M0,0h0v0h0Z\" style=\"pointer-events: none; fill: none;\"></path><g><g class=\"mark-rule role-axis-tick\" style=\"pointer-events: none;\"><line transform=\"translate(33,0)\" x2=\"0\" y2=\"5\" style=\"fill: none; stroke: #888; stroke-width: 1; opacity: 1;\"></line><line transform=\"translate(69,0)\" x2=\"0\" y2=\"5\" style=\"fill: none; stroke: #888; stroke-width: 1; opacity: 1;\"></line><line transform=\"translate(104,0)\" x2=\"0\" y2=\"5\" style=\"fill: none; stroke: #888; stroke-width: 1; opacity: 1;\"></line><line transform=\"translate(139,0)\" x2=\"0\" y2=\"5\" style=\"fill: none; stroke: #888; stroke-width: 1; opacity: 1;\"></line><line transform=\"translate(174,0)\" x2=\"0\" y2=\"5\" style=\"fill: none; stroke: #888; stroke-width: 1; opacity: 1;\"></line><line transform=\"translate(209,0)\" x2=\"0\" y2=\"5\" style=\"fill: none; stroke: #888; stroke-width: 1; opacity: 1;\"></line><line transform=\"translate(244,0)\" x2=\"0\" y2=\"5\" style=\"fill: none; stroke: #888; stroke-width: 1; opacity: 1;\"></line><line transform=\"translate(280,0)\" x2=\"0\" y2=\"5\" style=\"fill: none; stroke: #888; stroke-width: 1; opacity: 1;\"></line><line transform=\"translate(315,0)\" x2=\"0\" y2=\"5\" style=\"fill: none; stroke: #888; stroke-width: 1; opacity: 1;\"></line><line transform=\"translate(350,0)\" x2=\"0\" y2=\"5\" style=\"fill: none; stroke: #888; stroke-width: 1; opacity: 1;\"></line></g><g class=\"mark-text role-axis-label\" style=\"pointer-events: none;\"><text text-anchor=\"middle\" transform=\"translate(33.41427844200157,15)\" style=\"font-family: sans-serif; font-size: 10px; fill: #000; opacity: 1;\">2020</text><text text-anchor=\"middle\" transform=\"translate(68.59100477415627,15)\" style=\"font-family: sans-serif; font-size: 10px; fill: #000; opacity: 1;\">2040</text><text text-anchor=\"middle\" transform=\"translate(103.76773110631096,15)\" style=\"font-family: sans-serif; font-size: 10px; fill: #000; opacity: 1;\">2060</text><text text-anchor=\"middle\" transform=\"translate(138.94445743846566,15)\" style=\"font-family: sans-serif; font-size: 10px; fill: #000; opacity: 1;\">2080</text><text text-anchor=\"middle\" transform=\"translate(174.12118377062035,15)\" style=\"font-family: sans-serif; font-size: 10px; fill: #000; opacity: 1;\">2100</text><text text-anchor=\"middle\" transform=\"translate(209.29309467138123,15)\" style=\"font-family: sans-serif; font-size: 10px; fill: #000; opacity: 1;\">2120</text><text text-anchor=\"middle\" transform=\"translate(244.4698210035359,15)\" style=\"font-family: sans-serif; font-size: 10px; fill: #000; opacity: 1;\">2140</text><text text-anchor=\"middle\" transform=\"translate(279.6465473356906,15)\" style=\"font-family: sans-serif; font-size: 10px; fill: #000; opacity: 1;\">2160</text><text text-anchor=\"middle\" transform=\"translate(314.8232736678453,15)\" style=\"font-family: sans-serif; font-size: 10px; fill: #000; opacity: 1;\">2180</text><text text-anchor=\"end\" transform=\"translate(350,15)\" style=\"font-family: sans-serif; font-size: 10px; fill: #000; opacity: 1;\">2200</text></g><g class=\"mark-rule role-axis-domain\" style=\"pointer-events: none;\"><line transform=\"translate(0,0)\" x2=\"350\" y2=\"0\" style=\"fill: none; stroke: #888; stroke-width: 1; opacity: 1;\"></line></g><g class=\"mark-text role-axis-title\" style=\"pointer-events: none;\"><text text-anchor=\"middle\" transform=\"translate(175,30)\" style=\"font-family: sans-serif; font-size: 11px; font-weight: bold; fill: #000; opacity: 1;\">year</text></g></g></g></g></g></g><g transform=\"translate(820,256)\"><path class=\"background\" d=\"M0,0h350v0h-350Z\" style=\"fill: none;\"></path><g><g class=\"mark-group role-axis\"><g transform=\"translate(0.5,0.5)\"><path class=\"background\" d=\"M0,0h0v0h0Z\" style=\"pointer-events: none; fill: none;\"></path><g><g class=\"mark-rule role-axis-tick\" style=\"pointer-events: none;\"><line transform=\"translate(33,0)\" x2=\"0\" y2=\"5\" style=\"fill: none; stroke: #888; stroke-width: 1; opacity: 1;\"></line><line transform=\"translate(69,0)\" x2=\"0\" y2=\"5\" style=\"fill: none; stroke: #888; stroke-width: 1; opacity: 1;\"></line><line transform=\"translate(104,0)\" x2=\"0\" y2=\"5\" style=\"fill: none; stroke: #888; stroke-width: 1; opacity: 1;\"></line><line transform=\"translate(139,0)\" x2=\"0\" y2=\"5\" style=\"fill: none; stroke: #888; stroke-width: 1; opacity: 1;\"></line><line transform=\"translate(174,0)\" x2=\"0\" y2=\"5\" style=\"fill: none; stroke: #888; stroke-width: 1; opacity: 1;\"></line><line transform=\"translate(209,0)\" x2=\"0\" y2=\"5\" style=\"fill: none; stroke: #888; stroke-width: 1; opacity: 1;\"></line><line transform=\"translate(244,0)\" x2=\"0\" y2=\"5\" style=\"fill: none; stroke: #888; stroke-width: 1; opacity: 1;\"></line><line transform=\"translate(280,0)\" x2=\"0\" y2=\"5\" style=\"fill: none; stroke: #888; stroke-width: 1; opacity: 1;\"></line><line transform=\"translate(315,0)\" x2=\"0\" y2=\"5\" style=\"fill: none; stroke: #888; stroke-width: 1; opacity: 1;\"></line><line transform=\"translate(350,0)\" x2=\"0\" y2=\"5\" style=\"fill: none; stroke: #888; stroke-width: 1; opacity: 1;\"></line></g><g class=\"mark-text role-axis-label\" style=\"pointer-events: none;\"><text text-anchor=\"middle\" transform=\"translate(33.41427844200157,15)\" style=\"font-family: sans-serif; font-size: 10px; fill: #000; opacity: 1;\">2020</text><text text-anchor=\"middle\" transform=\"translate(68.59100477415627,15)\" style=\"font-family: sans-serif; font-size: 10px; fill: #000; opacity: 1;\">2040</text><text text-anchor=\"middle\" transform=\"translate(103.76773110631096,15)\" style=\"font-family: sans-serif; font-size: 10px; fill: #000; opacity: 1;\">2060</text><text text-anchor=\"middle\" transform=\"translate(138.94445743846566,15)\" style=\"font-family: sans-serif; font-size: 10px; fill: #000; opacity: 1;\">2080</text><text text-anchor=\"middle\" transform=\"translate(174.12118377062035,15)\" style=\"font-family: sans-serif; font-size: 10px; fill: #000; opacity: 1;\">2100</text><text text-anchor=\"middle\" transform=\"translate(209.29309467138123,15)\" style=\"font-family: sans-serif; font-size: 10px; fill: #000; opacity: 1;\">2120</text><text text-anchor=\"middle\" transform=\"translate(244.4698210035359,15)\" style=\"font-family: sans-serif; font-size: 10px; fill: #000; opacity: 1;\">2140</text><text text-anchor=\"middle\" transform=\"translate(279.6465473356906,15)\" style=\"font-family: sans-serif; font-size: 10px; fill: #000; opacity: 1;\">2160</text><text text-anchor=\"middle\" transform=\"translate(314.8232736678453,15)\" style=\"font-family: sans-serif; font-size: 10px; fill: #000; opacity: 1;\">2180</text><text text-anchor=\"end\" transform=\"translate(350,15)\" style=\"font-family: sans-serif; font-size: 10px; fill: #000; opacity: 1;\">2200</text></g><g class=\"mark-rule role-axis-domain\" style=\"pointer-events: none;\"><line transform=\"translate(0,0)\" x2=\"350\" y2=\"0\" style=\"fill: none; stroke: #888; stroke-width: 1; opacity: 1;\"></line></g><g class=\"mark-text role-axis-title\" style=\"pointer-events: none;\"><text text-anchor=\"middle\" transform=\"translate(175,30)\" style=\"font-family: sans-serif; font-size: 11px; font-weight: bold; fill: #000; opacity: 1;\">year</text></g></g></g></g></g></g></g><g class=\"mark-group role-scope cell\"><g transform=\"translate(0,0)\"><path class=\"background\" d=\"M0.5,0.5h350v250h-350Z\" style=\"fill: none; stroke: #ddd;\"></path><g><g class=\"mark-group role-axis\"><g transform=\"translate(0.5,250.5)\"><path class=\"background\" d=\"M0,0h0v0h0Z\" style=\"pointer-events: none; fill: none;\"></path><g><g class=\"mark-rule role-axis-grid\" style=\"pointer-events: none;\"><line transform=\"translate(33,-250)\" x2=\"0\" y2=\"250\" style=\"fill: none; stroke: #ddd; stroke-width: 1; opacity: 1;\"></line><line transform=\"translate(69,-250)\" x2=\"0\" y2=\"250\" style=\"fill: none; stroke: #ddd; stroke-width: 1; opacity: 1;\"></line><line transform=\"translate(104,-250)\" x2=\"0\" y2=\"250\" style=\"fill: none; stroke: #ddd; stroke-width: 1; opacity: 1;\"></line><line transform=\"translate(139,-250)\" x2=\"0\" y2=\"250\" style=\"fill: none; stroke: #ddd; stroke-width: 1; opacity: 1;\"></line><line transform=\"translate(174,-250)\" x2=\"0\" y2=\"250\" style=\"fill: none; stroke: #ddd; stroke-width: 1; opacity: 1;\"></line><line transform=\"translate(209,-250)\" x2=\"0\" y2=\"250\" style=\"fill: none; stroke: #ddd; stroke-width: 1; opacity: 1;\"></line><line transform=\"translate(244,-250)\" x2=\"0\" y2=\"250\" style=\"fill: none; stroke: #ddd; stroke-width: 1; opacity: 1;\"></line><line transform=\"translate(280,-250)\" x2=\"0\" y2=\"250\" style=\"fill: none; stroke: #ddd; stroke-width: 1; opacity: 1;\"></line><line transform=\"translate(315,-250)\" x2=\"0\" y2=\"250\" style=\"fill: none; stroke: #ddd; stroke-width: 1; opacity: 1;\"></line><line transform=\"translate(350,-250)\" x2=\"0\" y2=\"250\" style=\"fill: none; stroke: #ddd; stroke-width: 1; opacity: 1;\"></line></g></g></g></g><g class=\"mark-group role-axis\"><g transform=\"translate(0.5,0.5)\"><path class=\"background\" d=\"M0,0h0v0h0Z\" style=\"pointer-events: none; fill: none;\"></path><g><g class=\"mark-rule role-axis-grid\" style=\"pointer-events: none;\"><line transform=\"translate(0,250)\" x2=\"350\" y2=\"0\" style=\"fill: none; stroke: #ddd; stroke-width: 1; opacity: 1;\"></line><line transform=\"translate(0,212)\" x2=\"350\" y2=\"0\" style=\"fill: none; stroke: #ddd; stroke-width: 1; opacity: 1;\"></line><line transform=\"translate(0,173)\" x2=\"350\" y2=\"0\" style=\"fill: none; stroke: #ddd; stroke-width: 1; opacity: 1;\"></line><line transform=\"translate(0,135)\" x2=\"350\" y2=\"0\" style=\"fill: none; stroke: #ddd; stroke-width: 1; opacity: 1;\"></line><line transform=\"translate(0,96)\" x2=\"350\" y2=\"0\" style=\"fill: none; stroke: #ddd; stroke-width: 1; opacity: 1;\"></line><line transform=\"translate(0,58)\" x2=\"350\" y2=\"0\" style=\"fill: none; stroke: #ddd; stroke-width: 1; opacity: 1;\"></line><line transform=\"translate(0,19)\" x2=\"350\" y2=\"0\" style=\"fill: none; stroke: #ddd; stroke-width: 1; opacity: 1;\"></line></g></g></g></g><g class=\"mark-group role-scope child_pathgroup\"><g transform=\"translate(0,0)\"><path class=\"background\" d=\"M0,0h350v250h-350Z\" style=\"fill: none;\"></path><g><g class=\"mark-line role-mark child_marks\"><path d=\"M0,157.84013461538459L1.7576324587592698,157.73357884615385L3.5152649175185395,157.54842115384616L5.272897376277808,157.52647307692308L7.03534526643094,157.62216538461539L8.792977725190209,157.5662673076923L10.55061018394948,157.3121634615385L12.308242642708748,156.9263096153846L14.07069053286188,156.42288653846154L15.82832299162115,155.83408076923078L17.585955450380418,155.1668576923077L19.34358790913969,154.41379807692306L21.10603579929282,153.56979615384614L22.863668258052087,152.64147884615383L24.62130071681136,151.63428653846157L26.378933175570626,150.55568461538462L28.14138106572376,149.41445384615386L29.899013524483028,148.21811346153845L31.6566459832423,146.97297500000002L33.41427844200157,145.68486153846155L35.1767263321547,144.36432115384613L36.93435879091397,143.02406923076921L38.69199124967324,141.66847500000003L40.44962370843251,140.29701346153846L42.21207159858564,138.9094153846154L43.96970405734491,137.504875L45.727336516104174,136.08522692307693L47.48496897486345,134.65418846153847L49.247416865016575,133.2146096153846L51.00504932377585,131.76847307692307L52.76268178253512,130.31780384615385L54.52031424129439,128.83183461538462L56.28276213144752,127.28044615384616L58.040394590206795,125.66708846153846L59.798027048966055,123.99567115384616L61.55565950772533,122.26991153846153L63.31810739787846,120.49257499999999L65.07573985663772,118.6689230769231L66.833372315397,116.80596346153845L68.59100477415627,114.90951923076922L70.3534526643094,112.98416730769232L72.11108512306866,111.02987884615384L73.86871758182794,109.05270769230768L75.6263500405872,107.06035769230768L77.38879793074034,105.05175961538463L79.1464303894996,103.02652884615385L80.90406284825887,100.98446153846152L82.66169530701815,98.9247173076923L84.42414319717128,96.8494826923077L86.18177565593055,94.76320000000003L87.93940811468983,92.6691403846154L89.69704057344909,90.60407115384614L91.45948846360223,88.60151153846155L93.21712092236149,86.66371923076923L94.97475338112075,84.7905673076923L96.73238583988004,82.97317500000001L98.49483373003315,81.20399230769232L100.25246618879243,79.47634423076924L102.0100986475517,77.78345384615385L103.76773110631096,76.12235384615384L105.5301789964641,74.49297115384616L107.28781145522336,72.92470961538461L109.04544391398264,71.44353076923076L110.8030763727419,70.04288653846154L112.56552426289504,68.72366153846154L114.3231567216543,67.48445L116.08078918041359,66.31453846153845L117.83842163917285,65.20459423076925L119.60086952932596,64.14635192307694L121.35850198808525,63.131561538461554L123.11613444684451,62.15604615384615L124.87376690560379,61.212842307692306L126.63621479575691,60.29499615384615L128.39384725451617,59.401269230769245L130.15147971327545,58.53044615384617L131.90911217203472,57.68855769230768L133.67156006218784,56.87886538461542L135.42919252094714,56.09446153846154L137.1868249797064,55.329326923076934L138.94445743846566,54.578250000000025L140.7069053286188,53.83603846153845L142.46453778737808,53.09376923076925L144.22217024613732,52.34619230769233L145.97980270489663,51.59553846153847L147.74225059504974,50.842961538461545L149.49988305380901,50.0894423076923L151.2575155125683,49.34326923076923L153.01514797132754,48.60980769230772L154.77759586148068,47.883596153846185L156.53522832023995,47.1599423076923L158.2928607789992,46.43461538461538L160.05049323775847,45.731115384615386L161.8129411279116,45.074826923076934L163.5705735866709,44.46415384615385L165.32820604543016,43.89707692307693L167.08583850418944,43.3706923076923L168.84828639434255,42.88223076923076L170.60591885310183,42.43676923076922L172.3635513118611,42.03678846153849L174.12118377062035,41.67376923076924L175.87881622937965,41.33982692307691L177.6364486881389,41.041461538461554L179.39408114689817,40.78424999999999L181.15171360565745,40.56357692307691L182.91416149581056,40.37869230769231L184.67179395456986,40.2283076923077L186.4294264133291,40.11023076923076L188.1870588720884,40.02232692307692L189.9495067622415,39.970288461538495L191.7071392210008,39.957230769230776L193.46477167976008,39.97503846153849L195.22240413851932,40.016134615384644L196.98485202867244,40.074019230769224L198.7424844874317,40.14209615384615L200.500116946191,40.21823076923076L202.25774940495026,40.30400000000004L204.0201972951034,40.400346153846165L205.77782975386265,40.50709615384618L207.53546221262192,40.62384615384615L209.29309467138123,40.75803846153844L211.05554256153434,40.914423076923086L212.8131750202936,41.08625000000002L214.57080747905286,41.26701923076925L216.32843993781216,41.45126923076925L218.09088782796528,41.633403846153854L219.84852028672455,41.81225000000002L221.6061527454838,41.99032692307694L223.36378520424307,42.169519230769254L225.1262330943962,42.35048076923076L226.8838655531555,42.53359615384614L228.64149801191476,42.72696153846153L230.399130470674,42.93603846153849L232.16157836082718,43.15463461538463L233.91921081958643,43.37665384615386L235.6768432783457,43.59696153846157L237.43447573710495,43.810346153846154L239.1969236272581,44.015923076923094L240.95455608601733,44.216673076923094L242.71218854477664,44.41490384615388L244.4698210035359,44.611634615384645L246.23226889368902,44.80755769230771L247.98990135244833,45.01107692307693L249.74753381120757,45.228000000000016L251.50516626996685,45.452384615384645L253.26761416011996,45.678173076923066L255.02524661887924,45.90034615384614L256.78287907763854,46.11371153846156L258.5405115363978,46.31759615384615L260.3029594265509,46.51505769230768L262.0605918853102,46.70869230769234L263.81822434406945,46.89971153846157L265.5758568028287,47.087500000000006L267.33830469298186,47.27921153846157L269.0959371517411,47.4809807692308L270.8535696105004,47.68713461538462L272.61120206925966,47.89167307692308L274.3736499594128,48.08959615384617L276.1312824181721,48.27586538461539L277.8889148769313,48.44980769230772L279.6465473356906,48.6146923076923L281.40899522584374,48.7733076923077L283.166627684603,48.927019230769226L284.92426014336223,49.07680769230768L286.68189260212154,49.231307692307716L288.44434049227465,49.39667307692311L290.20197295103395,49.56721153846155L291.95960540979326,49.73678846153845L293.71723786855244,49.90028846153849L295.4796857587056,50.05253846153848L297.23731821746486,50.19284615384614L298.99495067622416,50.32451923076925L300.7525831349834,50.450326923076936L302.5150310251366,50.57175L304.2726634838958,50.689750000000004L306.0302959426551,50.81296153846154L307.7879284014144,50.94759615384614L309.5503762915675,51.08790384615386L311.3080087503268,51.22769230769231L313.06564120908604,51.36174999999999L314.8232736678453,51.48486538461539L316.5857215579984,51.596326923076944L318.3433540167577,51.699461538461556L320.10098647551695,51.797115384615374L321.85861893427625,51.89076923076924L323.62106682442936,51.98142307692308L325.37869928318867,52.077692307692324L327.1363317419479,52.18576923076923L328.89396420070716,52.299903846153875L330.65641209086033,52.41384615384617L332.4140445496196,52.52230769230773L334.1716770083789,52.620096153846134L335.9293094671381,52.706480769230765L337.69175735729124,52.78482692307693L339.44938981605054,52.858019230769216L341.2070222748098,52.92753846153847L342.9646547335691,52.99442307692306L344.7271026237222,53.06724999999998L346.48473508248145,53.15219230769233L348.2423675412407,53.2434807692308L350,53.33482692307695\" style=\"fill: none; stroke: #f58518; stroke-width: 2;\"></path></g></g></g><g transform=\"translate(0,0)\"><path class=\"background\" d=\"M0,0h350v250h-350Z\" style=\"fill: none;\"></path><g><g class=\"mark-line role-mark child_marks\"><path d=\"M33.41427844200157,145.5180703540242L51.00504932377585,123.50528682135901L68.59100477415627,104.55244420729484L86.18177565593055,85.65168770127029L130.15147971327545,54.63013523225932L174.12118377062035,32.308201252336936L262.0605918853102,18.063323060585333L350,19.40493328705409\" style=\"fill: none; stroke: #4c78a8; stroke-width: 2;\"></path></g></g></g></g><g class=\"mark-group role-axis\"><g transform=\"translate(0.5,0.5)\"><path class=\"background\" d=\"M0,0h0v0h0Z\" style=\"pointer-events: none; fill: none;\"></path><g><g class=\"mark-rule role-axis-tick\" style=\"pointer-events: none;\"><line transform=\"translate(0,250)\" x2=\"-5\" y2=\"0\" style=\"fill: none; stroke: #888; stroke-width: 1; opacity: 1;\"></line><line transform=\"translate(0,212)\" x2=\"-5\" y2=\"0\" style=\"fill: none; stroke: #888; stroke-width: 1; opacity: 1;\"></line><line transform=\"translate(0,173)\" x2=\"-5\" y2=\"0\" style=\"fill: none; stroke: #888; stroke-width: 1; opacity: 1;\"></line><line transform=\"translate(0,135)\" x2=\"-5\" y2=\"0\" style=\"fill: none; stroke: #888; stroke-width: 1; opacity: 1;\"></line><line transform=\"translate(0,96)\" x2=\"-5\" y2=\"0\" style=\"fill: none; stroke: #888; stroke-width: 1; opacity: 1;\"></line><line transform=\"translate(0,58)\" x2=\"-5\" y2=\"0\" style=\"fill: none; stroke: #888; stroke-width: 1; opacity: 1;\"></line><line transform=\"translate(0,19)\" x2=\"-5\" y2=\"0\" style=\"fill: none; stroke: #888; stroke-width: 1; opacity: 1;\"></line></g><g class=\"mark-text role-axis-label\" style=\"pointer-events: none;\"><text text-anchor=\"end\" transform=\"translate(-7,253)\" style=\"font-family: sans-serif; font-size: 10px; fill: #000; opacity: 1;\">0.0</text><text text-anchor=\"end\" transform=\"translate(-7,214.53846153846155)\" style=\"font-family: sans-serif; font-size: 10px; fill: #000; opacity: 1;\">0.2</text><text text-anchor=\"end\" transform=\"translate(-7,176.07692307692307)\" style=\"font-family: sans-serif; font-size: 10px; fill: #000; opacity: 1;\">0.4</text><text text-anchor=\"end\" transform=\"translate(-7,137.61538461538464)\" style=\"font-family: sans-serif; font-size: 10px; fill: #000; opacity: 1;\">0.6</text><text text-anchor=\"end\" transform=\"translate(-7,99.15384615384615)\" style=\"font-family: sans-serif; font-size: 10px; fill: #000; opacity: 1;\">0.8</text><text text-anchor=\"end\" transform=\"translate(-7,60.69230769230771)\" style=\"font-family: sans-serif; font-size: 10px; fill: #000; opacity: 1;\">1.0</text><text text-anchor=\"end\" transform=\"translate(-7,22.230769230769244)\" style=\"font-family: sans-serif; font-size: 10px; fill: #000; opacity: 1;\">1.2</text></g><g class=\"mark-rule role-axis-domain\" style=\"pointer-events: none;\"><line transform=\"translate(0,250)\" x2=\"0\" y2=\"-250\" style=\"fill: none; stroke: #888; stroke-width: 1; opacity: 1;\"></line></g><g class=\"mark-text role-axis-title\" style=\"pointer-events: none;\"><text text-anchor=\"middle\" transform=\"translate(-24.9013671875,125) rotate(-90) translate(0,-2)\" style=\"font-family: sans-serif; font-size: 11px; font-weight: bold; fill: #000; opacity: 1;\">W/m²</text></g></g></g></g></g></g><g transform=\"translate(410,0)\"><path class=\"background\" d=\"M0.5,0.5h350v250h-350Z\" style=\"fill: none; stroke: #ddd;\"></path><g><g class=\"mark-group role-axis\"><g transform=\"translate(0.5,250.5)\"><path class=\"background\" d=\"M0,0h0v0h0Z\" style=\"pointer-events: none; fill: none;\"></path><g><g class=\"mark-rule role-axis-grid\" style=\"pointer-events: none;\"><line transform=\"translate(33,-250)\" x2=\"0\" y2=\"250\" style=\"fill: none; stroke: #ddd; stroke-width: 1; opacity: 1;\"></line><line transform=\"translate(69,-250)\" x2=\"0\" y2=\"250\" style=\"fill: none; stroke: #ddd; stroke-width: 1; opacity: 1;\"></line><line transform=\"translate(104,-250)\" x2=\"0\" y2=\"250\" style=\"fill: none; stroke: #ddd; stroke-width: 1; opacity: 1;\"></line><line transform=\"translate(139,-250)\" x2=\"0\" y2=\"250\" style=\"fill: none; stroke: #ddd; stroke-width: 1; opacity: 1;\"></line><line transform=\"translate(174,-250)\" x2=\"0\" y2=\"250\" style=\"fill: none; stroke: #ddd; stroke-width: 1; opacity: 1;\"></line><line transform=\"translate(209,-250)\" x2=\"0\" y2=\"250\" style=\"fill: none; stroke: #ddd; stroke-width: 1; opacity: 1;\"></line><line transform=\"translate(244,-250)\" x2=\"0\" y2=\"250\" style=\"fill: none; stroke: #ddd; stroke-width: 1; opacity: 1;\"></line><line transform=\"translate(280,-250)\" x2=\"0\" y2=\"250\" style=\"fill: none; stroke: #ddd; stroke-width: 1; opacity: 1;\"></line><line transform=\"translate(315,-250)\" x2=\"0\" y2=\"250\" style=\"fill: none; stroke: #ddd; stroke-width: 1; opacity: 1;\"></line><line transform=\"translate(350,-250)\" x2=\"0\" y2=\"250\" style=\"fill: none; stroke: #ddd; stroke-width: 1; opacity: 1;\"></line></g></g></g></g><g class=\"mark-group role-axis\"><g transform=\"translate(0.5,0.5)\"><path class=\"background\" d=\"M0,0h0v0h0Z\" style=\"pointer-events: none; fill: none;\"></path><g><g class=\"mark-rule role-axis-grid\" style=\"pointer-events: none;\"><line transform=\"translate(0,250)\" x2=\"350\" y2=\"0\" style=\"fill: none; stroke: #ddd; stroke-width: 1; opacity: 1;\"></line><line transform=\"translate(0,205)\" x2=\"350\" y2=\"0\" style=\"fill: none; stroke: #ddd; stroke-width: 1; opacity: 1;\"></line><line transform=\"translate(0,159)\" x2=\"350\" y2=\"0\" style=\"fill: none; stroke: #ddd; stroke-width: 1; opacity: 1;\"></line><line transform=\"translate(0,114)\" x2=\"350\" y2=\"0\" style=\"fill: none; stroke: #ddd; stroke-width: 1; opacity: 1;\"></line><line transform=\"translate(0,68)\" x2=\"350\" y2=\"0\" style=\"fill: none; stroke: #ddd; stroke-width: 1; opacity: 1;\"></line><line transform=\"translate(0,23)\" x2=\"350\" y2=\"0\" style=\"fill: none; stroke: #ddd; stroke-width: 1; opacity: 1;\"></line></g></g></g></g><g class=\"mark-group role-scope child_pathgroup\"><g transform=\"translate(0,0)\"><path class=\"background\" d=\"M0,0h350v250h-350Z\" style=\"fill: none;\"></path><g><g class=\"mark-line role-mark child_marks\"><path d=\"M0,214.63861590909093L1.7576324587592698,213.96592045454545L3.5152649175185395,213.23739772727274L5.272897376277808,212.57286590909092L7.03534526643094,211.92897727272728L8.792977725190209,211.283575L10.55061018394948,210.66227954545454L12.308242642708748,210.02128636363636L14.07069053286188,209.32403181818182L15.82832299162115,208.5995L17.585955450380418,207.87867727272726L19.34358790913969,207.1445909090909L21.10603579929282,206.38897045454547L22.863668258052087,205.61209545454545L24.62130071681136,204.81478863636366L26.378933175570626,203.99969318181817L28.14138106572376,203.16987272727272L29.899013524483028,202.3268477272727L31.6566459832423,201.47094545454547L33.41427844200157,200.6022409090909L35.1767263321547,199.723025L36.93435879091397,198.8351181818182L38.69199124967324,197.93584545454544L40.44962370843251,197.02262045454546L42.21207159858564,196.09512727272727L43.96970405734491,195.15392954545456L45.727336516104174,194.201375L47.48496897486345,193.2402818181818L49.247416865016575,192.27202045454544L51.00504932377585,191.29678409090909L52.76268178253512,190.3145840909091L54.52031424129439,189.32301590909088L56.28276213144752,188.31737045454545L58.040394590206795,187.2935318181818L59.798027048966055,186.24953181818182L61.55565950772533,185.18548863636363L63.31810739787846,184.10219545454547L65.07573985663772,183.00219545454544L66.833372315397,181.88856136363634L68.59100477415627,180.7629159090909L70.3534526643094,179.62574772727274L72.11108512306866,178.474625L73.86871758182794,177.3095068181818L75.6263500405872,176.13076363636364L77.38879793074034,174.93481136363636L79.1464303894996,173.71977727272724L80.90406284825887,172.48541818181818L82.66169530701815,171.23250227272726L84.42414319717128,169.96348636363635L86.18177565593055,168.68133181818183L87.93940811468983,167.38769318181818L89.69704057344909,166.08328181818183L91.45948846360223,164.76864772727274L93.21712092236149,163.44636363636363L94.97475338112075,162.11642272727272L96.73238583988004,160.7748977272727L98.49483373003315,159.41994772727276L100.25246618879243,158.05117727272727L102.0100986475517,156.66898863636365L103.76773110631096,155.27556590909091L105.5301789964641,153.873575L107.28781145522336,152.46926818181817L109.04544391398264,151.06742954545456L110.8030763727419,149.66757954545457L112.56552426289504,148.27132045454545L114.3231567216543,146.878425L116.08078918041359,145.48578181818183L117.83842163917285,144.09037727272727L119.60086952932596,142.6901977272727L121.35850198808525,141.28563636363634L123.11613444684451,139.87866590909093L124.87376690560379,138.4752909090909L126.63621479575691,137.0801909090909L128.39384725451617,135.69314999999997L130.15147971327545,134.31386590909088L131.90911217203472,132.94389318181817L133.67156006218784,131.5808727272727L135.42919252094714,130.2253295454545L137.1868249797064,128.87439090909092L138.94445743846566,127.5227659090909L140.7069053286188,126.17257727272727L142.46453778737808,124.82656363636366L144.22217024613732,123.4879818181818L145.97980270489663,122.15822045454547L147.74225059504974,120.83697499999998L149.49988305380901,119.52348863636364L151.2575155125683,118.22227954545455L153.01514797132754,116.93082499999998L154.77759586148068,115.64366136363635L156.53522832023995,114.3627681818182L158.2928607789992,113.085L160.05049323775847,111.80922272727273L161.8129411279116,110.53967272727272L163.5705735866709,109.27816136363636L165.32820604543016,108.02553409090909L167.08583850418944,106.78226818181818L168.84828639434255,105.54860454545454L170.60591885310183,104.32493636363638L172.3635513118611,103.11197954545453L174.12118377062035,101.90902499999999L175.87881622937965,100.71160454545455L177.6364486881389,99.51613181818183L179.39408114689817,98.32737045454546L181.15171360565745,97.14652272727272L182.91416149581056,95.97233409090907L184.67179395456986,94.80656136363638L186.4294264133291,93.64872727272727L188.1870588720884,92.50182727272727L189.9495067622415,91.36548181818182L191.7071392210008,90.23935227272727L193.46477167976008,89.12392272727274L195.22240413851932,88.01339318181817L196.98485202867244,86.90796818181818L198.7424844874317,85.80746136363638L200.500116946191,84.71042045454544L202.25774940495026,83.62066818181817L204.0201972951034,82.53727954545454L205.77782975386265,81.46169772727274L207.53546221262192,80.39668863636365L209.29309467138123,79.33971590909091L211.05554256153434,78.29232727272728L212.8131750202936,77.25489999999999L214.57080747905286,76.2221431818182L216.32843993781216,75.19162954545455L218.09088782796528,74.16524090909091L219.84852028672455,73.1439068181818L221.6061527454838,72.12681818181818L223.36378520424307,71.11412045454546L225.1262330943962,70.11025454545455L226.8838655531555,69.11483181818181L228.64149801191476,68.12654318181818L230.399130470674,67.14882272727272L232.16157836082718,66.17810681818182L233.91921081958643,65.21063863636361L235.6768432783457,64.24707954545453L237.43447573710495,63.28666363636365L239.1969236272581,62.328247727272746L240.95455608601733,61.374472727272725L242.71218854477664,60.42729772727273L244.4698210035359,59.48610454545455L246.23226889368902,58.551063636363644L247.98990135244833,57.62346818181818L249.74753381120757,56.70448636363637L251.50516626996685,55.79296136363637L253.26761416011996,54.8861931818182L255.02524661887924,53.981463636363635L256.78287907763854,53.07807272727272L258.5405115363978,52.177854545454565L260.3029594265509,51.28090454545456L262.0605918853102,50.38828409090909L263.81822434406945,49.503154545454535L265.5758568028287,48.62967500000001L267.33830469298186,47.77137499999998L269.0959371517411,46.93197272727276L270.8535696105004,46.110447727272714L272.61120206925966,45.29983636363635L274.3736499594128,44.499013636363635L276.1312824181721,43.710379545454536L277.8889148769313,42.93338409090908L279.6465473356906,42.167804545454516L281.40899522584374,41.414493181818195L283.166627684603,40.67412954545455L284.92426014336223,39.94706363636363L286.68189260212154,39.232061363636355L288.44434049227465,38.53325909090907L290.20197295103395,37.850404545454545L291.95960540979326,37.17595227272727L293.71723786855244,36.509350000000026L295.4796857587056,35.85216136363636L297.23731821746486,35.20475227272726L298.99495067622416,34.56721136363636L300.7525831349834,33.940086363636354L302.5150310251366,33.32372045454546L304.2726634838958,32.71814318181818L306.0302959426551,32.124534090909066L307.7879284014144,31.545543181818154L309.5503762915675,30.97992500000002L311.3080087503268,30.422622727272753L313.06564120908604,29.87226818181818L314.8232736678453,29.329313636363626L316.5857215579984,28.79367954545453L318.3433540167577,28.26657272727273L320.10098647551695,27.748395454545438L321.85861893427625,27.239852272727266L323.62106682442936,26.743124999999978L325.37869928318867,26.257288636363647L327.1363317419479,25.78315681818183L328.89396420070716,25.321215909090895L330.65641209086033,24.867579545454543L332.4140445496196,24.42025227272726L334.1716770083789,23.979027272727272L335.9293094671381,23.544431818181806L337.69175735729124,23.11721590909091L339.44938981605054,22.69884090909091L341.2070222748098,22.290181818181793L342.9646547335691,21.890022727272722L344.7271026237222,21.501022727272723L346.48473508248145,21.124272727272714L348.2423675412407,20.7563409090909L350,20.396272727272734\" style=\"fill: none; stroke: #f58518; stroke-width: 2;\"></path></g></g></g><g transform=\"translate(0,0)\"><path class=\"background\" d=\"M0,0h350v250h-350Z\" style=\"fill: none;\"></path><g><g class=\"mark-line role-mark child_marks\"><path d=\"M33.41427844200157,206.28126874871114L51.00504932377585,194.86601023014865L68.59100477415627,182.84794704814254L86.18177565593055,169.9139095471959L130.15147971327545,137.77286963107662L174.12118377062035,110.18847914358918L262.0605918853102,71.83521403485626L350,45.4746991354347\" style=\"fill: none; stroke: #4c78a8; stroke-width: 2;\"></path></g></g></g></g><g class=\"mark-group role-axis\"><g transform=\"translate(0.5,0.5)\"><path class=\"background\" d=\"M0,0h0v0h0Z\" style=\"pointer-events: none; fill: none;\"></path><g><g class=\"mark-rule role-axis-tick\" style=\"pointer-events: none;\"><line transform=\"translate(0,250)\" x2=\"-5\" y2=\"0\" style=\"fill: none; stroke: #888; stroke-width: 1; opacity: 1;\"></line><line transform=\"translate(0,205)\" x2=\"-5\" y2=\"0\" style=\"fill: none; stroke: #888; stroke-width: 1; opacity: 1;\"></line><line transform=\"translate(0,159)\" x2=\"-5\" y2=\"0\" style=\"fill: none; stroke: #888; stroke-width: 1; opacity: 1;\"></line><line transform=\"translate(0,114)\" x2=\"-5\" y2=\"0\" style=\"fill: none; stroke: #888; stroke-width: 1; opacity: 1;\"></line><line transform=\"translate(0,68)\" x2=\"-5\" y2=\"0\" style=\"fill: none; stroke: #888; stroke-width: 1; opacity: 1;\"></line><line transform=\"translate(0,23)\" x2=\"-5\" y2=\"0\" style=\"fill: none; stroke: #888; stroke-width: 1; opacity: 1;\"></line></g><g class=\"mark-text role-axis-label\" style=\"pointer-events: none;\"><text text-anchor=\"end\" transform=\"translate(-7,253)\" style=\"font-family: sans-serif; font-size: 10px; fill: #000; opacity: 1;\">0</text><text text-anchor=\"end\" transform=\"translate(-7,207.54545454545453)\" style=\"font-family: sans-serif; font-size: 10px; fill: #000; opacity: 1;\">2</text><text text-anchor=\"end\" transform=\"translate(-7,162.0909090909091)\" style=\"font-family: sans-serif; font-size: 10px; fill: #000; opacity: 1;\">4</text><text text-anchor=\"end\" transform=\"translate(-7,116.63636363636364)\" style=\"font-family: sans-serif; font-size: 10px; fill: #000; opacity: 1;\">6</text><text text-anchor=\"end\" transform=\"translate(-7,71.18181818181817)\" style=\"font-family: sans-serif; font-size: 10px; fill: #000; opacity: 1;\">8</text><text text-anchor=\"end\" transform=\"translate(-7,25.727272727272734)\" style=\"font-family: sans-serif; font-size: 10px; fill: #000; opacity: 1;\">10</text></g><g class=\"mark-rule role-axis-domain\" style=\"pointer-events: none;\"><line transform=\"translate(0,250)\" x2=\"0\" y2=\"-250\" style=\"fill: none; stroke: #888; stroke-width: 1; opacity: 1;\"></line></g><g class=\"mark-text role-axis-title\" style=\"pointer-events: none;\"><text text-anchor=\"middle\" transform=\"translate(-22.123046875,125) rotate(-90) translate(0,-2)\" style=\"font-family: sans-serif; font-size: 11px; font-weight: bold; fill: #000; opacity: 1;\">W/m²</text></g></g></g></g></g></g><g transform=\"translate(820,0)\"><path class=\"background\" d=\"M0.5,0.5h350v250h-350Z\" style=\"fill: none; stroke: #ddd;\"></path><g><g class=\"mark-group role-axis\"><g transform=\"translate(0.5,250.5)\"><path class=\"background\" d=\"M0,0h0v0h0Z\" style=\"pointer-events: none; fill: none;\"></path><g><g class=\"mark-rule role-axis-grid\" style=\"pointer-events: none;\"><line transform=\"translate(33,-250)\" x2=\"0\" y2=\"250\" style=\"fill: none; stroke: #ddd; stroke-width: 1; opacity: 1;\"></line><line transform=\"translate(69,-250)\" x2=\"0\" y2=\"250\" style=\"fill: none; stroke: #ddd; stroke-width: 1; opacity: 1;\"></line><line transform=\"translate(104,-250)\" x2=\"0\" y2=\"250\" style=\"fill: none; stroke: #ddd; stroke-width: 1; opacity: 1;\"></line><line transform=\"translate(139,-250)\" x2=\"0\" y2=\"250\" style=\"fill: none; stroke: #ddd; stroke-width: 1; opacity: 1;\"></line><line transform=\"translate(174,-250)\" x2=\"0\" y2=\"250\" style=\"fill: none; stroke: #ddd; stroke-width: 1; opacity: 1;\"></line><line transform=\"translate(209,-250)\" x2=\"0\" y2=\"250\" style=\"fill: none; stroke: #ddd; stroke-width: 1; opacity: 1;\"></line><line transform=\"translate(244,-250)\" x2=\"0\" y2=\"250\" style=\"fill: none; stroke: #ddd; stroke-width: 1; opacity: 1;\"></line><line transform=\"translate(280,-250)\" x2=\"0\" y2=\"250\" style=\"fill: none; stroke: #ddd; stroke-width: 1; opacity: 1;\"></line><line transform=\"translate(315,-250)\" x2=\"0\" y2=\"250\" style=\"fill: none; stroke: #ddd; stroke-width: 1; opacity: 1;\"></line><line transform=\"translate(350,-250)\" x2=\"0\" y2=\"250\" style=\"fill: none; stroke: #ddd; stroke-width: 1; opacity: 1;\"></line></g></g></g></g><g class=\"mark-group role-axis\"><g transform=\"translate(0.5,0.5)\"><path class=\"background\" d=\"M0,0h0v0h0Z\" style=\"pointer-events: none; fill: none;\"></path><g><g class=\"mark-rule role-axis-grid\" style=\"pointer-events: none;\"><line transform=\"translate(0,250)\" x2=\"350\" y2=\"0\" style=\"fill: none; stroke: #ddd; stroke-width: 1; opacity: 1;\"></line><line transform=\"translate(0,219)\" x2=\"350\" y2=\"0\" style=\"fill: none; stroke: #ddd; stroke-width: 1; opacity: 1;\"></line><line transform=\"translate(0,188)\" x2=\"350\" y2=\"0\" style=\"fill: none; stroke: #ddd; stroke-width: 1; opacity: 1;\"></line><line transform=\"translate(0,156)\" x2=\"350\" y2=\"0\" style=\"fill: none; stroke: #ddd; stroke-width: 1; opacity: 1;\"></line><line transform=\"translate(0,125)\" x2=\"350\" y2=\"0\" style=\"fill: none; stroke: #ddd; stroke-width: 1; opacity: 1;\"></line><line transform=\"translate(0,94)\" x2=\"350\" y2=\"0\" style=\"fill: none; stroke: #ddd; stroke-width: 1; opacity: 1;\"></line><line transform=\"translate(0,63)\" x2=\"350\" y2=\"0\" style=\"fill: none; stroke: #ddd; stroke-width: 1; opacity: 1;\"></line><line transform=\"translate(0,31)\" x2=\"350\" y2=\"0\" style=\"fill: none; stroke: #ddd; stroke-width: 1; opacity: 1;\"></line><line transform=\"translate(0,0)\" x2=\"350\" y2=\"0\" style=\"fill: none; stroke: #ddd; stroke-width: 1; opacity: 1;\"></line></g></g></g></g><g class=\"mark-group role-scope child_pathgroup\"><g transform=\"translate(0,0)\"><path class=\"background\" d=\"M0,0h350v250h-350Z\" style=\"fill: none;\"></path><g><g class=\"mark-line role-mark child_marks\"><path d=\"M0,204.67821875L1.7576324587592698,203.92585L3.5152649175185395,203.159490625L5.272897376277808,202.473275L7.03534526643094,201.75080937500002L8.792977725190209,200.99976875000002L10.55061018394948,200.31278125000003L12.308242642708748,199.61366875L14.07069053286188,198.902325L15.82832299162115,198.179071875L17.585955450380418,197.44382499999998L19.34358790913969,196.69166875L21.10603579929282,195.91803125L22.863668258052087,195.1231125L24.62130071681136,194.307109375L26.378933175570626,193.4702375L28.14138106572376,192.612759375L29.899013524483028,191.734953125L31.6566459832423,190.83710000000002L33.41427844200157,189.91948125L35.1767263321547,188.982365625L36.93435879091397,188.0278375L38.69199124967324,187.057953125L40.44962370843251,186.07296875L42.21207159858564,185.073134375L43.96970405734491,184.05870000000002L45.727336516104174,183.029884375L47.48496897486345,181.986909375L49.247416865016575,180.92998437500003L51.00504932377585,179.859321875L52.76268178253512,178.775134375L54.52031424129439,177.67738125L56.28276213144752,176.566015625L58.040394590206795,175.44124375L59.798027048966055,174.30327812500002L61.55565950772533,173.152315625L63.31810739787846,171.98856875L65.07573985663772,170.812240625L66.833372315397,169.623534375L68.59100477415627,168.422646875L70.3534526643094,167.20978125L72.11108512306866,165.98980625L73.86871758182794,164.767565625L75.6263500405872,163.543196875L77.38879793074034,162.31683437499998L79.1464303894996,161.088590625L80.90406284825887,159.8585375L82.66169530701815,158.626725L84.42414319717128,157.39320625L86.18177565593055,156.158025L87.93940811468983,154.92123437499998L89.69704057344909,153.68422812499998L91.45948846360223,152.44840625L93.21712092236149,151.213790625L94.97475338112075,149.98041875L96.73238583988004,148.74830625L98.49483373003315,147.5174625L100.25246618879243,146.2879L102.0100986475517,145.059615625L103.76773110631096,143.832615625L105.5301789964641,142.60690312500003L107.28781145522336,141.38348750000003L109.04544391398264,140.1633625L110.8030763727419,138.94652812500001L112.56552426289504,137.732971875L114.3231567216543,136.52267812500003L116.08078918041359,135.315634375L117.83842163917285,134.11180625000003L119.60086952932596,132.911175L121.35850198808525,131.713715625L123.11613444684451,130.519403125L124.87376690560379,129.32729375000002L126.63621479575691,128.136453125L128.39384725451617,126.94686250000001L130.15147971327545,125.75851562500002L131.90911217203472,124.57139687500002L133.67156006218784,123.38550937500001L135.42919252094714,122.20085312500001L137.1868249797064,121.01743125L138.94445743846566,119.83524687500002L140.7069053286188,118.65430000000002L142.46453778737808,117.47355L144.22217024613732,116.29195312500002L145.97980270489663,115.10953125L147.74225059504974,113.9262875L149.49988305380901,112.742246875L151.2575155125683,111.55743437500001L153.01514797132754,110.37187812500002L154.77759586148068,109.1856125L156.53522832023995,107.998659375L158.2928607789992,106.81105625000001L160.05049323775847,105.62506562500002L161.8129411279116,104.44293437500002L163.5705735866709,103.26467187499999L165.32820604543016,102.09028125000003L167.08583850418944,100.91975624999999L168.84828639434255,99.75307187500002L170.60591885310183,98.59019375L172.3635513118611,97.43109375L174.12118377062035,96.27573125000002L175.87881622937965,95.124075L177.6364486881389,93.98032187500002L179.39408114689817,92.84864375L181.15171360565745,91.72896562500001L182.91416149581056,90.621215625L184.67179395456986,89.5253L186.4294264133291,88.44110000000002L188.1870588720884,87.36846875L189.9495067622415,86.30726875L191.7071392210008,85.25735937500001L193.46477167976008,84.218609375L195.22240413851932,83.19087812500001L196.98485202867244,82.17403750000003L198.7424844874317,81.167953125L200.500116946191,80.17250000000001L202.25774940495026,79.18755000000003L204.0201972951034,78.21297500000001L205.77782975386265,77.24865625L207.53546221262192,76.29447187500001L209.29309467138123,75.350303125L211.05554256153434,74.41602812500001L212.8131750202936,73.49153437500003L214.57080747905286,72.57670625000002L216.32843993781216,71.67142812500002L218.09088782796528,70.77559375L219.84852028672455,69.88909062499998L221.6061527454838,69.01180937500001L223.36378520424307,68.14364687500002L225.1262330943962,67.28449375000001L226.8838655531555,66.43424687499999L228.64149801191476,65.592809375L230.399130470674,64.76007500000003L232.16157836082718,63.93594375000003L233.91921081958643,63.120321874999995L235.6768432783457,62.31310625L237.43447573710495,61.51420625000001L239.1969236272581,60.72352812500001L240.95455608601733,59.94097500000001L242.71218854477664,59.16645937500004L244.4698210035359,58.39988437500001L246.23226889368902,57.64116875000003L247.98990135244833,56.890218750000024L249.74753381120757,56.14694687500002L251.50516626996685,55.411271875000004L253.26761416011996,54.68310625L255.02524661887924,53.96236562500001L256.78287907763854,53.248971874999995L258.5405115363978,52.542834374999984L260.3029594265509,51.84388125L262.0605918853102,51.15203125000001L263.81822434406945,50.467203125000026L265.5758568028287,49.79137812500004L267.33830469298186,49.12652187500002L269.0959371517411,48.47255312499998L270.8535696105004,47.82938125L272.61120206925966,47.196912500000025L274.3736499594128,46.57504062500001L276.1312824181721,45.96364375L277.8889148769313,45.36260624999999L279.6465473356906,44.771815625000016L281.40899522584374,44.19115937500001L283.166627684603,43.62052187499999L284.92426014336223,43.05979375000002L286.68189260212154,42.508865625000006L288.44434049227465,41.967631250000025L290.20197295103395,41.43598437499998L291.95960540979326,40.91382187500003L293.71723786855244,40.401037500000015L295.4796857587056,39.89753125000001L297.23731821746486,39.403203125000005L298.99495067622416,38.917950000000005L300.7525831349834,38.44167812499999L302.5150310251366,37.97429062499999L304.2726634838958,37.515693750000025L306.0302959426551,37.0657875L307.7879284014144,36.62448125000001L309.5503762915675,36.191687500000015L311.3080087503268,35.76731250000004L313.06564120908604,35.351268750000024L314.8232736678453,34.943462500000024L316.5857215579984,34.54381250000002L318.3433540167577,34.152234375000006L320.10098647551695,33.768637500000004L321.85861893427625,33.39294062500001L323.62106682442936,33.025059375000026L325.37869928318867,32.66491562500001L327.1363317419479,32.31242812499999L328.89396420070716,31.967512500000016L330.65641209086033,31.630096875000014L332.4140445496196,31.300096875000015L334.1716770083789,30.977440625000018L335.9293094671381,30.662053125000003L337.69175735729124,30.353856250000007L339.44938981605054,30.052775000000004L341.2070222748098,29.758740625L342.9646547335691,29.47167812500001L344.7271026237222,29.191515624999997L346.48473508248145,28.9181875L348.2423675412407,28.651618749999997L350,28.391740625000022\" style=\"fill: none; stroke: #f58518; stroke-width: 2;\"></path></g></g></g><g transform=\"translate(0,0)\"><path class=\"background\" d=\"M0,0h350v250h-350Z\" style=\"fill: none;\"></path><g><g class=\"mark-line role-mark child_marks\"><path d=\"M33.41427844200157,191.90017027522245L51.00504932377585,180.65931884250307L68.59100477415627,168.6496978641119L86.18177565593055,156.33343465873773L130.15147971327545,126.89632270784449L174.12118377062035,99.5389079368732L262.0605918853102,57.876076284789136L350,32.19666437186955\" style=\"fill: none; stroke: #4c78a8; stroke-width: 2;\"></path></g></g></g></g><g class=\"mark-group role-axis\"><g transform=\"translate(0.5,0.5)\"><path class=\"background\" d=\"M0,0h0v0h0Z\" style=\"pointer-events: none; fill: none;\"></path><g><g class=\"mark-rule role-axis-tick\" style=\"pointer-events: none;\"><line transform=\"translate(0,250)\" x2=\"-5\" y2=\"0\" style=\"fill: none; stroke: #888; stroke-width: 1; opacity: 1;\"></line><line transform=\"translate(0,219)\" x2=\"-5\" y2=\"0\" style=\"fill: none; stroke: #888; stroke-width: 1; opacity: 1;\"></line><line transform=\"translate(0,188)\" x2=\"-5\" y2=\"0\" style=\"fill: none; stroke: #888; stroke-width: 1; opacity: 1;\"></line><line transform=\"translate(0,156)\" x2=\"-5\" y2=\"0\" style=\"fill: none; stroke: #888; stroke-width: 1; opacity: 1;\"></line><line transform=\"translate(0,125)\" x2=\"-5\" y2=\"0\" style=\"fill: none; stroke: #888; stroke-width: 1; opacity: 1;\"></line><line transform=\"translate(0,94)\" x2=\"-5\" y2=\"0\" style=\"fill: none; stroke: #888; stroke-width: 1; opacity: 1;\"></line><line transform=\"translate(0,63)\" x2=\"-5\" y2=\"0\" style=\"fill: none; stroke: #888; stroke-width: 1; opacity: 1;\"></line><line transform=\"translate(0,31)\" x2=\"-5\" y2=\"0\" style=\"fill: none; stroke: #888; stroke-width: 1; opacity: 1;\"></line><line transform=\"translate(0,0)\" x2=\"-5\" y2=\"0\" style=\"fill: none; stroke: #888; stroke-width: 1; opacity: 1;\"></line></g><g class=\"mark-text role-axis-label\" style=\"pointer-events: none;\"><text text-anchor=\"end\" transform=\"translate(-7,253)\" style=\"font-family: sans-serif; font-size: 10px; fill: #000; opacity: 1;\">0.0</text><text text-anchor=\"end\" transform=\"translate(-7,221.75)\" style=\"font-family: sans-serif; font-size: 10px; fill: #000; opacity: 1;\">0.1</text><text text-anchor=\"end\" transform=\"translate(-7,190.5)\" style=\"font-family: sans-serif; font-size: 10px; fill: #000; opacity: 1;\">0.2</text><text text-anchor=\"end\" transform=\"translate(-7,159.25)\" style=\"font-family: sans-serif; font-size: 10px; fill: #000; opacity: 1;\">0.3</text><text text-anchor=\"end\" transform=\"translate(-7,128)\" style=\"font-family: sans-serif; font-size: 10px; fill: #000; opacity: 1;\">0.4</text><text text-anchor=\"end\" transform=\"translate(-7,96.75)\" style=\"font-family: sans-serif; font-size: 10px; fill: #000; opacity: 1;\">0.5</text><text text-anchor=\"end\" transform=\"translate(-7,65.50000000000003)\" style=\"font-family: sans-serif; font-size: 10px; fill: #000; opacity: 1;\">0.6</text><text text-anchor=\"end\" transform=\"translate(-7,34.25000000000003)\" style=\"font-family: sans-serif; font-size: 10px; fill: #000; opacity: 1;\">0.7</text><text text-anchor=\"end\" transform=\"translate(-7,3)\" style=\"font-family: sans-serif; font-size: 10px; fill: #000; opacity: 1;\">0.8</text></g><g class=\"mark-rule role-axis-domain\" style=\"pointer-events: none;\"><line transform=\"translate(0,250)\" x2=\"0\" y2=\"-250\" style=\"fill: none; stroke: #888; stroke-width: 1; opacity: 1;\"></line></g><g class=\"mark-text role-axis-title\" style=\"pointer-events: none;\"><text text-anchor=\"middle\" transform=\"translate(-24.9013671875,125) rotate(-90) translate(0,-2)\" style=\"font-family: sans-serif; font-size: 11px; font-weight: bold; fill: #000; opacity: 1;\">W/m²</text></g></g></g></g></g></g></g><g class=\"mark-group role-legend\"><g transform=\"translate(1191,0)\"><path class=\"background\" d=\"M0,0h64v40h-64Z\" style=\"pointer-events: none; fill: none;\"></path><g><g class=\"mark-group role-legend-entry\"><g transform=\"translate(0,16)\"><path class=\"background\" d=\"M0,0h0v0h0Z\" style=\"pointer-events: none; fill: none;\"></path><g><g class=\"mark-group role-scope\"><g transform=\"translate(0,0)\"><path class=\"background\" d=\"M0,0h63.7880859375v11h-63.7880859375Z\" style=\"pointer-events: none; fill: none; opacity: 1;\"></path><g><g class=\"mark-symbol role-legend-symbol\" style=\"pointer-events: none;\"><path transform=\"translate(6,6)\" d=\"M-5,0L5,0\" style=\"fill: none; stroke: #4c78a8; stroke-width: 1.5; opacity: 1;\"></path></g><g class=\"mark-text role-legend-label\" style=\"pointer-events: none;\"><text text-anchor=\"start\" transform=\"translate(16,9)\" style=\"font-family: sans-serif; font-size: 10px; fill: #000; opacity: 1;\">PAGE-ICE</text></g></g></g><g transform=\"translate(0,13)\"><path class=\"background\" d=\"M0,0h63.7880859375v11h-63.7880859375Z\" style=\"pointer-events: none; fill: none; opacity: 1;\"></path><g><g class=\"mark-symbol role-legend-symbol\" style=\"pointer-events: none;\"><path transform=\"translate(6,6)\" d=\"M-5,0L5,0\" style=\"fill: none; stroke: #f58518; stroke-width: 1.5; opacity: 1;\"></path></g><g class=\"mark-text role-legend-label\" style=\"pointer-events: none;\"><text text-anchor=\"start\" transform=\"translate(16,9)\" style=\"font-family: sans-serif; font-size: 10px; fill: #000; opacity: 1;\">RCP 8.5</text></g></g></g></g></g></g></g><g class=\"mark-text role-legend-title\" style=\"pointer-events: none;\"><text text-anchor=\"start\" transform=\"translate(0,9)\" style=\"font-family: sans-serif; font-size: 11px; font-weight: bold; fill: #000; opacity: 1;\">Source</text></g></g></g></g></g></g></g></g></svg>"
      ],
      "text/plain": [
       "VegaLite.VLSpec{:plot}"
      ]
     },
     "execution_count": 4,
     "metadata": {},
     "output_type": "execute_result"
    }
   ],
   "source": [
    "df |>\n",
    "@filter(_.year > Date(2000) && _.year <= Date(2200)) |>\n",
    "@vlplot(\n",
    "    :line,\n",
    "    width=350, height=250,\n",
    "    x={\"year(year)\", title=\"year\"},\n",
    "    y={:value, title=\"W/m²\"},\n",
    "    column={\"variable:n\", title=\"\"},\n",
    "    color={:model, legend={title=\"Source\"}},\n",
    "    resolve={scale={y=:independent}}\n",
    ")"
   ]
  },
  {
   "cell_type": "code",
   "execution_count": null,
   "metadata": {
    "collapsed": true
   },
   "outputs": [],
   "source": []
  }
 ],
 "metadata": {
  "kernelspec": {
   "display_name": "Julia 1.2.0",
   "language": "julia",
   "name": "julia-1.2"
  },
  "language_info": {
   "file_extension": ".jl",
   "mimetype": "application/julia",
   "name": "julia",
   "version": "1.2.0"
  }
 },
 "nbformat": 4,
 "nbformat_minor": 2
}
